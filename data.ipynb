{
 "cells": [
  {
   "cell_type": "markdown",
   "id": "d5088921",
   "metadata": {},
   "source": [
    "# `data` namespace\n",
    "\n",
    "<b style=\"color:red;\">THIS IS A PROOF-OF-CONCEPT</b>\n",
    "\n",
    "The `data` namespace contains classes, functions and operators to facilitate the manipulation and analysis of columnar data.\n",
    "\n",
    "## Classes\n",
    "\n",
    "<div style=\"background-color:#ffffee;border:1px solid #ddddaa;margin:2em;padding:5px;\">\n",
    "\n",
    "### `data.Series` class\n",
    "\n",
    "An instance of the `data.Series` class contains a labelled array.\n",
    "\n",
    "Bracket indexing (property `iloc`) of the series gives access to the values of the array.\n",
    "The **`values`** property is equivalent to `[]`.\n",
    "The label, which can take any value,\n",
    "can be accessed through the **`label`** property.\n",
    "The keyed property **`loc`** returns the indices of the given values and allows to assign to those positions.\n",
    "\n",
    "</div>\n",
    "<div style=\"background-color:#ffffee;border:1px solid #ddddaa;margin:2em;padding:5px;\">\n",
    "\n",
    "### `data.Frame` class\n",
    "\n",
    "An instance of the `data.Frame` class contains a list of `data.Series` instances.\n",
    "All the series must contain values arrays of the same length.\n",
    "\n",
    "The series list can be accessed by bracket indexing (property **`loc`**) of rank 1 using the labels of the series as indices.\n",
    "Bracket indexing of rank 2 gives access to the values in the series.\n",
    "The properties **`series`**, **`labels`** and **`values`** are equivalent to `[]`, `[].label` and `[;]`.\n",
    "The keyed property **`iloc`** is analogous to `loc` but takes positions instead of values as indices.\n",
    "\n",
    "The property **`index`** is a list of labels used as index. The values in those series will then be used to index the frame when using `loc` (or `Sel`, or `Loc`). The index values can be read or changed through the property **`indices`**. The property **`columns`** gives access to the labels which are not in the index.\n",
    "\n",
    "Frames are displayed with shades at row intervals of the size specified by the **SHADE** property\n",
    "and up to a maximum number of lines specified by the **MAXLINES** property.\n",
    "\n",
    "#### Methods\n",
    "\n",
    "- `⍺ df.Col ⍵` returns frame with columns `df[⍵]` (or `⍵` if it is an array of frames and series) and index `df[⍺]` (default none)\n",
    "- `⍺ df.Sel ⍵` returns frame with rows `⍵` using as index `⍺` (default `df.index`); if `⍵` is an array of frames and series, return selection `⍺` using as index `df.index` and index frame with it.\n",
    "- `⍺ df.Loc ⍵` equivalent to `df.(Sel∘Col)`\n",
    "    \n",
    "</div>\n",
    "\n",
    "## Functions and operators\n",
    "\n",
    "<div style=\"background-color:#eeffee;border:1px solid #aaddaa;margin:2em;padding:5px;\">\n",
    "\n",
    "### `data.series` function\n",
    "\n",
    "This function returns an instance or a list of instances of the `data.Series` class.\n",
    "\n",
    "- `⍺ data.series ⍵` creates an instance of `data.Series` with label `⍺` and values `⍵`. If `⍺` is a series, the label is taken from it.\n",
    "- `data.series ⍵` creates an instance of `data.Series` for each of the series in `⍵` and each of the series contained in each frame in `⍵`. If `⍵` is a rank 2 array, it must contain series with the same label in each column, and their values will be concatenated.\n",
    "\n",
    "</div>\n",
    "<div style=\"background-color:#eeffee;border:1px solid #aaddaa;margin:2em;padding:5px;\">\n",
    "\n",
    "### `data.frame` function\n",
    "\n",
    "This function returns an instance of the `data.Frame` class.\n",
    "\n",
    "- `⍺ data.frame ⍵` creates an instance of `data.Frame` with labels `⍺` (or the labels of the series list or frame `⍺`) and values `⍵`. If `⍵` is a string, it writes the frame `⍺` to the CSV file `⍵` or reads the CSV file `⍵` without header and returns frame with labels `⍺`.\n",
    "- `data.frame ⍵` creates an instance of `data.Frame` with each of the series returned by `data.series ⍵`. If `⍵` is a string, it reads the file `⍵` as CSV with header and returns frame.\n",
    "\n",
    "</div>\n",
    "<div style=\"background-color:#eeffee;border:1px solid #aaddaa;margin:2em;padding:5px;\">\n",
    "\n",
    "### `data.index` function\n",
    "\n",
    "This function returns an instance of the `data.Frame` class with the given index.\n",
    "\n",
    "- `⍺ data.index ⍵` creates an instance of `data.Frame` with index `⍺` (or the labels of the series list or frame `⍺`) and series `⍵`, which must be a list of series and or frames.\n",
    "- `data.index ⍵` creates an instance of `data.Frame` with no index.\n",
    "\n",
    "</div>\n",
    "<div style=\"background-color:#eeffee;border:1px solid #aaddaa;margin:2em;padding:5px;\">\n",
    "\n",
    "### `data.nan` function\n",
    "\n",
    "- `⍺ data.nan ⍵` substitutes non-numeric values in `⍵` with `⍺`.\n",
    "- `data.nan ⍵` returns array with shape of `⍵.values` with ones in non-numeric elements and zeros in numeric ones.\n",
    "\n",
    "</div>\n",
    "\n",
    "<div style=\"background-color:#ffeeff;border:1px solid #ddaadd;margin:2em;padding:5px;\">\n",
    "\n",
    "### `data.at` operator\n",
    "\n",
    "This operator applys the left operand to the values specified by the left operand.\n",
    "\n",
    "- `(⍺⍺ data.at) ⍵` returns `⍵` (a frame or list of series) as a frame after applying `⍺⍺` to the series with labels `⍵⍵⊣⍵.labels`.\n",
    "- `⍺ (⍺⍺ data.at) ⍵` is equivalent to `(⍺∘⍺⍺ data.at) ⍵`.\n",
    "\n",
    "</div>\n",
    "<div style=\"background-color:#ffeeff;border:1px solid #ddaadd;margin:2em;padding:5px;\">\n",
    "\n",
    "### `data.sort` operator\n",
    "\n",
    "This operator sorts data according to the left function.\n",
    "\n",
    "- `⍺ (⍺⍺ data.sort) ⍵` returns `⍵` (a frame, list of series, or array) sorted according to the result of `⍺⍺ ⍺` (where `⍺⍺` typically is one of `⍒⍋`).\n",
    "- `(⍺⍺ data.sort) ⍵` is equivalent to `(⍺⍺ data.sort)⍨⍵`.\n",
    "\n",
    "</div>\n",
    "<div style=\"background-color:#ffeeff;border:1px solid #ddaadd;margin:2em;padding:5px;\">\n",
    "\n",
    "### `data.by` operator\n",
    "\n",
    "This operator groups data by the right operand and applies the left function.\n",
    "\n",
    "- `⍺ (⍺⍺ data.by ⍵⍵) ⍵` returns the data in `⍵` (a frame or list of series) grouped according to `⍵⍵` (also a frame or list of series) and apply `⍺⍺` to each group. Labels (either all of them, the ones not in `⍵`, or the ones not in `⍵⍵`) are given in `⍺`, which can be a list of values, a list of series, or a frame. If `⍺⍺` and `⍵⍵` are both arrays, the `⍺` series are stacked with labels in series `⍺⍺` and values in series `⍵⍵`.\n",
    "- `(⍺⍺ data.by ⍵⍵) ⍵` is equivalent to `⍬ (⍺⍺ data.by ⍵⍵) ⍵`. If `⍺⍺` and `⍵⍵` are both series or labels, the values in `⍺⍺` are grouped for each value in `⍵⍵` and distributed in series.\n",
    "\n",
    "</div>\n",
    "<div style=\"background-color:#ffeeff;border:1px solid #ddaadd;margin:2em;padding:5px;\">\n",
    "\n",
    "### `data.join` operator\n",
    "\n",
    "This operator merges two frames (or lists of series).\n",
    "\n",
    "- `⍺ (⍺⍺ data.join ⍵⍵) ⍵` returns frame with series labelled `⍺.labels ⍵⍵ ⍵.labels`. If two series at left and right have the same label, its values are combined as `⍺.values ⍺⍺ ⍵.values`.\n",
    "- `(⍺⍺ data.join ⍵⍵) ⍵` returns a series with label `⍵⍵ ⍵.labels` and values `⍺⍺ ⍵.values`.\n",
    "\n",
    "</div>\n",
    "\n",
    "## Examples"
   ]
  },
  {
   "cell_type": "code",
   "execution_count": 1,
   "id": "1efd36a2",
   "metadata": {},
   "outputs": [
    {
     "data": {
      "text/html": [
       "<pre class=\"language-APL\">clear ws\n",
       "</pre>"
      ]
     },
     "execution_count": 1,
     "metadata": {},
     "output_type": "execute_result"
    }
   ],
   "source": [
    ")clear\n",
    "⎕PP←3\n",
    "] _←link.import # . ⍝ import data namespace from current directory\n",
    "test.all"
   ]
  },
  {
   "cell_type": "markdown",
   "id": "36fd393c",
   "metadata": {},
   "source": [
    "### Berkeley"
   ]
  },
  {
   "cell_type": "code",
   "execution_count": 2,
   "id": "19d1fe51",
   "metadata": {
    "scrolled": false
   },
   "outputs": [
    {
     "data": {
      "text/html": [
       "<pre class=\"language-APL\"> Major  Gender  Applicants  Accepted  %Accepted  %Applicants\n",
       "─────────────────────────────────────────────────────────────\n",
       " A      F              108        89      82.4         2.5\n",
       "        M             1138       825      72.5        13.5\n",
       "░░░░░░░░T░░░░░░░░░░░░░1246░░░░░░░914░░░░░░73.4░░░░░░░░░9.76░░\n",
       " B      F               25        17      68           0.579\n",
       "        M              560       353      63           6.63\n",
       "░░░░░░░░T░░░░░░░░░░░░░░585░░░░░░░370░░░░░░63.2░░░░░░░░░4.58░░\n",
       " C      F              593       201      33.9        13.7\n",
       "        M              325       120      36.9         3.85\n",
       "░░░░░░░░T░░░░░░░░░░░░░░918░░░░░░░321░░░░░░35░░░░░░░░░░░7.19░░\n",
       " D      F              375       131      34.9         8.68\n",
       "        M              417       138      33.1         4.94\n",
       "░░░░░░░░T░░░░░░░░░░░░░░792░░░░░░░269░░░░░░34░░░░░░░░░░░6.21░░\n",
       " E      F              393        94      23.9         9.1\n",
       "        M              191        53      27.7         2.26\n",
       "░░░░░░░░T░░░░░░░░░░░░░░584░░░░░░░147░░░░░░25.2░░░░░░░░░4.58░░\n",
       " F      F              341        25       7.33        7.89\n",
       "        M              373        22       5.9         4.42\n",
       "░░░░░░░░T░░░░░░░░░░░░░░714░░░░░░░░47░░░░░░░6.58░░░░░░░░5.59░░\n",
       " Other  F             2486       937      37.7        57.5\n",
       "        M             5438      2227      41          64.4\n",
       "░░░░░░░░T░░░░░░░░░░░░░7924░░░░░░3164░░░░░░39.9░░░░░░░░62.1░░░\n",
       " Total  F             4321      1494      34.6       100\n",
       "        M             8442      3738      44.3\n",
       "░░░░░░░░T░░░░░░░░░░░░12763░░░░░░5232░░░░░░41░░░░░░░░░░░░░░░░░\n",
       "</pre>"
      ]
     },
     "execution_count": 2,
     "metadata": {},
     "output_type": "execute_result"
    }
   ],
   "source": [
    "f ←   data.frame'berkeley.csv'                                                              ⍝ load data file\n",
    "a ←   data.('Applicants' 'Accepted'{(≢⍵),('A'+.=⊃¨)⍵}by'Major' 'Gender'⊢)f[]~f[⊂'Year']     ⍝ group\n",
    "g ← a data.(⍋sort⊣,join⊣(⊂'Gender')(+⌿,'T'⍨)by(⊂'Major')⊢)a[]~a[⊂'Gender']                  ⍝ totals by gender\n",
    "m ← g data.(⍋sort⊣,join⊣(⊂'Major')(+⌿,(⊂'Total')⍨)by(⊂'Gender')⊢)g[]~g[⊂'Major']            ⍝ totals by major\n",
    "r ← m data.(frame⊣,'%Accepted'series⊢)100×÷/m[;'Accepted' 'Applicants']                     ⍝ accepted ratio\n",
    "b ← r data.(frame⊣,'%Applicants'series⊢)(100×⊢÷≢⍴('T'=⊃¨r[;⊂'Major'])⌿⊢)⊢r[;⊂'Applicants']  ⍝ applicants ratio\n",
    "b"
   ]
  },
  {
   "cell_type": "markdown",
   "id": "5b559996",
   "metadata": {},
   "source": [
    "### Iris"
   ]
  },
  {
   "cell_type": "code",
   "execution_count": 3,
   "id": "f29b065a",
   "metadata": {
    "scrolled": false
   },
   "outputs": [
    {
     "data": {
      "text/html": [
       "<pre class=\"language-APL\">   class            ⌊sl   Asl    Ssl  ⌈sl  sl25  sl50  sl75      class               sl      sw     pl     pw  \n",
       "  ──────────────────────────────────────────────────────────    ────────────────────────────────────────────── \n",
       "   Iris-setosa      4.3  5.01  0.352  5.8   4.8   5     5.2      Iris-setosa      1       0.747  0.264  0.279  \n",
       "   Iris-versicolor  4.9  5.94  0.516  7     5.6   5.9   6.3                       0.747   1      0.177  0.28   \n",
       "   Iris-virginica        6.59  0.636  7.9   6.2   6.5   7       ░░░░░░░░░░░░░░░░░░0.264░░░0.177░░1░░░░░░0.306░ \n",
       "                                                                                  0.279   0.28   0.306  1      \n",
       "   class            ⌊sw   Asw    Ssw  ⌈sw  sw25  sw50  sw75      Iris-versicolor  1       0.526  0.754  0.546  \n",
       "  ──────────────────────────────────────────────────────────    ░░░░░░░░░░░░░░░░░░0.526░░░1░░░░░░0.561░░0.664░ \n",
       "   Iris-setosa      2.3  3.42  0.381  4.4   3.1   3.4   3.7                       0.754   0.561  1      0.787  \n",
       "   Iris-versicolor  2    2.77  0.314  3.4   2.5   2.8   3                         0.546   0.664  0.787  1      \n",
       "   Iris-virginica   2.2  2.97  0.322  3.8   2.8   3     3.2     ░Iris-virginica░░░1░░░░░░░0.457░░0.864░░0.281░ \n",
       "                                                                                  0.457   1      0.401  0.538  \n",
       "   class            ⌊pl   Apl    Spl  ⌈pl  pl25  pl50  pl75                       0.864   0.401  1      0.322  \n",
       "  ──────────────────────────────────────────────────────────    ░░░░░░░░░░░░░░░░░░0.281░░░0.538░░0.322░░1░░░░░ \n",
       "   Iris-setosa      1    1.46  0.174  1.9   1.4  1.5    1.6      Class            0.783  ¯0.419  0.949  0.956  \n",
       "   Iris-versicolor  3    4.26  0.47   5.1   4    4.35   4.6                                                    \n",
       "   Iris-virginica   4.5  5.55  0.552  6.9   5.1  5.55   5.9                                                    \n",
       "                                                                                                               \n",
       "   class            ⌊pw    Apw    Spw  ⌈pw  pw25  pw50  pw75                                                   \n",
       "  ───────────────────────────────────────────────────────────                                                  \n",
       "   Iris-setosa      0.1  0.244  0.107  0.6   0.2   0.2   0.3                                                   \n",
       "   Iris-versicolor  1    1.33   0.198  1.8   1.2   1.3   1.5                                                   \n",
       "   Iris-virginica   1.4  2.03   0.275  2.5   1.8   2     2.3                                                   \n",
       "</pre>"
      ]
     },
     "execution_count": 3,
     "metadata": {},
     "output_type": "execute_result"
    }
   ],
   "source": [
    "AVG←+⌿÷≢ ⋄ STD←(2*∘÷⍨+⌿÷¯1+≢)2*⍨⊢-⍤1+⌿÷≢     ⍝ average and standard deviation\n",
    "PCT←{((2÷⍨+/)⊢⌷⍨∘⊂⍋⌷⍨∘⊂∘⌈100÷⍨⍺×0 1+≢)⍵}     ⍝ percentile-⍺\n",
    "PCC←+.×⍥((⊢÷2*∘÷⍨+.×⍨)⊢-+⌿÷≢)                ⍝ Pearson correlation coefficient\n",
    "f←'sl' 'sw' 'pl' 'pw' 'class'data.frame'iris.csv'                              ⍝ load data file\n",
    "aggs←{l f←⍺⍵ ⋄ ⍪,¨⍺⍺{(⍺⍺ ⍵)⍵⍵data.by(f[l])⊢f[⊂⍵]}⍵⍵¨f.labels~l}                ⍝ aggregation operator\n",
    "s←(⊂'class'){'⌊AS⌈',¨⊂⍵}aggs(⌊⌿,AVG,STD,⌈⌿)f                                   ⍝ statistical summary\n",
    "p←(⊂'class')('25' '50' '75',⍨¨⊂)aggs(,25 50 75∘.PCT↓∘⍉)f                       ⍝ percentiles\n",
    "s←s{data.frame⍺.series,1↓⍵.series}¨¨p ⋄ s.SHADE←0                              ⍝ summary for each variable\n",
    "pcc←{∘.PCC⍨↓⍉⍵}data.by(⊂'class')⊢f[]                                           ⍝ Pearson's correlation coeff\n",
    "pcc.values⍪←(⊂'Class'),({(∪⍵)⍳⍵}f[;⊂'class'])∘PCC¨f[f.labels~⊂'class'].values  ⍝ PCC for the class\n",
    "⍕(⍪⊃(⊣,(⊂''),⊢)⌿s)pcc"
   ]
  },
  {
   "cell_type": "markdown",
   "id": "14e73e5f",
   "metadata": {},
   "source": [
    "### Google"
   ]
  },
  {
   "cell_type": "code",
   "execution_count": 4,
   "id": "8532dd2a",
   "metadata": {
    "scrolled": false
   },
   "outputs": [
    {
     "data": {
      "text/html": [
       "<pre class=\"language-APL\">  year     1     2     3     4     5     6     7     8     9    10    11    12  total\n",
       "──────────────────────────────────────────────────────────────────────────────────────\n",
       "  2019     ·     ·     ·     ·     ·     ·     ·   198   334   275   296   439   1542\n",
       "  2020   288   272   301   291   361   279   275   336   264   253   366   350   3636\n",
       "░░2021░░░332░░░264░░░250░░░245░░░317░░░247░░░249░░░306░░░242░░░315░░░271░░░320░░░3358░\n",
       "  2022   331   252   249   256   314   250   315   253   237   303   256   303   3319\n",
       "  2023   321   234   247   301   235   238   306   240   230   289   250   352   3243\n",
       "░░2024░░░238░░░227░░░293░░░239░░░231░░░286░░░229░░░111░░░░░·░░░░░·░░░░░·░░░░░·░░░1854░\n",
       " total  1510  1249  1340  1332  1458  1300  1374  1444  1307  1435  1439  1764  16952\n",
       "\n",
       "░░2019░░░░░·░░░░░·░░░░░·░░░░░·░░░░░·░░░░░·░░░░░·░░░░░·░░░136░░░¯59░░░░21░░░143░░░░░░·░\n",
       "  2020  ¯151   ¯16    29   ¯10    70   ¯82    ¯4    61   ¯72   ¯11   113   ¯16   2094\n",
       "  2021   ¯18   ¯68   ¯14    ¯5    72   ¯70     2    57   ¯64    73   ¯44    49   ¯278\n",
       "░░2022░░░░11░░░¯79░░░░¯3░░░░░7░░░░58░░░¯64░░░░65░░░¯62░░░¯16░░░░66░░░¯47░░░░47░░░░¯39░\n",
       "  2023    18   ¯87    13    54   ¯66     3    68   ¯66   ¯10    59   ¯39   102    ¯76\n",
       "  2024  ¯114   ¯11    66   ¯54    ¯8    55   ¯57  ¯118     ·     ·     ·     ·  ¯1389\n",
       "\n",
       "  year  min  avg  max  total    month  min  avg  max  total\n",
       " ────────────────────────────  ─────────────────────────────\n",
       " 2019   198  308  439  1542         1  238  302  332   1510\n",
       " 2020   253  303  366  3636         2  227  250  272   1249\n",
       " 2021░░░242░░280░░332░░3358░░  ░░░░░3░░247░░268░░301░░░1340░\n",
       " 2022   237  277  331  3319         4  239  266        1332\n",
       " 2023   230  270  352  3243         5  231  292  361   1458\n",
       " 2024░░░111░░232░░293░░1854░░  ░░░░░6░░238░░260░░286░░░1300░\n",
       "                                    7  229  275  315   1374\n",
       "                                    8  111  241  336   1444\n",
       "                               ░░░░░9░░230░░261░░334░░░1307░\n",
       "                                   10  253  287  315   1435\n",
       "                                   11  250  288  366   1439\n",
       "                               ░░░░12░░303░░353░░439░░░1764░\n",
       "</pre>"
      ]
     },
     "execution_count": 4,
     "metadata": {},
     "output_type": "execute_result"
    }
   ],
   "source": [
    "g←'date' 'n'data.frame⎕CSV⍠'Invert'2⊢(3↓⊃⎕NGET'google-scotch.csv'1)'N'4  ⍝ read data file\n",
    "d←{⍲/(∧/∊∘(⎕D,'-'))¨⍵:⎕SIGNAL 11 ⋄ ↑'-'(⍎¨≠⊆⊢)¨⍵}g[;⊂'date']             ⍝ convert date strings to y m d\n",
    "tt←'n'data.by'month'⊢t←'year' 'month' 'n'+⌿data.by(d[;1 2])⊢g[⊂'n']      ⍝ group by month\n",
    "tv←(tt[;,⊂'year']⍪⊂'total'),(⊢⍪(+⌿+/¨))(⊢,(+/+/¨))tt[;1↓tt.labels]       ⍝ add total values\n",
    "tt←(tt.labels,⊂'total')data.frame tv                                     ⍝ data frame with totals\n",
    "c←'n'data.by'month'⊢t data.frame t[;t.labels~'n'],(⊂⍬),¯2-/t[;'n']       ⍝ calculate change\n",
    "tt←tt data.frame tt[;]⍪(⊂'')⍪c[;],(⊂⍬)⍪¯2-⌿¯1↓tt[;,⊂'total']             ⍝ data frame with totals and change\n",
    "tt ⋄ ⍬ ⋄ {'min' 'avg' 'max' 'total'(⌊⌿,(+⌿÷≢),⌈⌿,+⌿)data.by(t[⊂⍵])⊢t[⊂'n']}¨'year' 'month'"
   ]
  },
  {
   "cell_type": "markdown",
   "id": "c833779c",
   "metadata": {},
   "source": [
    "    jgl@dyalog.com"
   ]
  }
 ],
 "metadata": {
  "kernelspec": {
   "display_name": "Dyalog APL",
   "language": "apl",
   "name": "dyalog-kernel"
  },
  "language_info": {
   "file_extension": ".apl",
   "mimetype": "text/apl",
   "name": "APL"
  }
 },
 "nbformat": 4,
 "nbformat_minor": 5
}

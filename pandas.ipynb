{
 "cells": [
  {
   "cell_type": "code",
   "execution_count": 1369,
   "id": "39d99135",
   "metadata": {},
   "outputs": [
    {
     "data": {
      "text/html": [
       "<pre class=\"language-APL\">clear ws\n",
       "</pre>"
      ]
     },
     "execution_count": 1369,
     "metadata": {},
     "output_type": "execute_result"
    }
   ],
   "source": [
    ")clear\n",
    "⎕PP←3"
   ]
  },
  {
   "cell_type": "markdown",
   "id": "75c229d7",
   "metadata": {},
   "source": [
    "# 10 minutes to pandas\n",
    "\n",
    "https://pandas.pydata.org/docs/user_guide/10min.html\n",
    "\n",
    "    import pandas\n",
    "\n",
    "is"
   ]
  },
  {
   "cell_type": "code",
   "execution_count": 1370,
   "id": "1a50704d",
   "metadata": {},
   "outputs": [],
   "source": [
    "] _←link.import # . ⍝ TODO: tatin package"
   ]
  },
  {
   "cell_type": "markdown",
   "id": "d78af9f9",
   "metadata": {},
   "source": [
    "## Basic data structures in pandas\n",
    "\n",
    "- `pd.DataSeries` is `data.Series`\n",
    "- `pd.DataFrame` is `data.Frame`\n",
    "\n",
    "## Object creation"
   ]
  },
  {
   "cell_type": "code",
   "execution_count": 1371,
   "id": "bd89a3a0",
   "metadata": {},
   "outputs": [
    {
     "data": {
      "text/html": [
       "<pre class=\"language-APL\">\n",
       "────\n",
       "   1\n",
       "   3\n",
       "   5\n",
       " nan\n",
       "   6\n",
       "   8\n",
       "</pre>"
      ]
     },
     "execution_count": 1371,
     "metadata": {},
     "output_type": "execute_result"
    }
   ],
   "source": [
    "''data.series 1 3 5 'nan' 6 8"
   ]
  },
  {
   "cell_type": "code",
   "execution_count": 1372,
   "id": "8be853dd",
   "metadata": {},
   "outputs": [
    {
     "data": {
      "text/html": [
       "<pre class=\"language-APL\">\n",
       "─────────\n",
       " 2013 1 1\n",
       " 2013 1 2\n",
       " 2013 1 3\n",
       " 2013 1 4\n",
       " 2013 1 5\n",
       " 2013 1 6\n",
       "</pre>"
      ]
     },
     "execution_count": 1372,
     "metadata": {},
     "output_type": "execute_result"
    },
    {
     "data": {
      "text/html": [
       "<pre class=\"language-APL\">                A      B      C      D\n",
       "──────────────────────────────────────\n",
       " 2013 1 1  ¯0.746  0.488 ¯0.374  0.655\n",
       " 2013 1 2  ¯0.888  0.952  0.836  0.658\n",
       "░2013░1░3░░░0.407░¯0.664░¯0.682░░0.546\n",
       " 2013 1 4   0.89   0.973 ¯0.493  0.276\n",
       " 2013 1 5   0.848  0.279  0.211  0.437\n",
       "░2013░1░6░░¯0.708░¯0.957░░0.804░¯0.933\n",
       "</pre>"
      ]
     },
     "execution_count": 1372,
     "metadata": {},
     "output_type": "execute_result"
    }
   ],
   "source": [
    "⊢dates←''data.series(⊂2013 1),¨⍳6\n",
    "⊢df←data.frame dates,'ABCD'data.series¨↓1-2×?4 6⍴0"
   ]
  },
  {
   "cell_type": "code",
   "execution_count": 1373,
   "id": "39b6019b",
   "metadata": {},
   "outputs": [
    {
     "data": {
      "text/html": [
       "<pre class=\"language-APL\">          │     A       B       C      D\n",
       "──────────│─────────────────────────────\n",
       " 2013 1 1 │¯0.567 ¯0.454   0.168   0.475\n",
       " 2013 1 2 │¯0.35  ¯0.75    0.513  ¯0.437\n",
       "░2013░1░3░│¯0.532░░0.015░░¯0.678░░░0.554\n",
       " 2013 1 4 │ 0.374  0.292  ¯0.323  ¯0.654\n",
       " 2013 1 5 │ 0.399  0.0241 ¯0.854  ¯0.39\n",
       "░2013░1░6░│¯0.329░░0.207░░¯0.0566░¯0.709\n",
       "</pre>"
      ]
     },
     "execution_count": 1373,
     "metadata": {},
     "output_type": "execute_result"
    }
   ],
   "source": [
    "⍝ indexed frame\n",
    "⊢di←dates data.index'ABCD'data.series¨↓1-2×?4 6⍴0"
   ]
  },
  {
   "cell_type": "code",
   "execution_count": 1374,
   "id": "d1d9049d",
   "metadata": {},
   "outputs": [
    {
     "data": {
      "text/html": [
       "<pre class=\"language-APL\"> A  B         D  E      F\n",
       "────────────────────────────\n",
       " 1  2013 1 2  3  test   foo\n",
       "                 train\n",
       "░░░░░░░░░░░░░░░░░test░░░░░░░\n",
       "                 train\n",
       "</pre>"
      ]
     },
     "execution_count": 1374,
     "metadata": {},
     "output_type": "execute_result"
    }
   ],
   "source": [
    "n←⎕NS⍬\n",
    "n.A←1\n",
    "n.B←⊂2013 01 02\n",
    "n.C←''data.series⍳4\n",
    "n.D←4/3\n",
    "n.E←'test' 'train' 'test' 'train'\n",
    "n.F←⊂'foo'\n",
    "⊢df2←n.l data.frame⊃,/⍪¨4⍴¨n.(⍎¨l←⎕NL-2)"
   ]
  },
  {
   "cell_type": "code",
   "execution_count": 1375,
   "id": "ed73f324",
   "metadata": {},
   "outputs": [
    {
     "data": {
      "text/html": [
       "<pre class=\"language-APL\">11 326 83 326 326\n",
       "</pre>"
      ]
     },
     "execution_count": 1375,
     "metadata": {},
     "output_type": "execute_result"
    }
   ],
   "source": [
    "⎕DR¨df2[].values"
   ]
  },
  {
   "cell_type": "code",
   "execution_count": 1376,
   "id": "d0b749c6",
   "metadata": {},
   "outputs": [
    {
     "data": {
      "text/html": [
       "<pre class=\"language-APL\">┌───┬───┬────────┬─────┬───┬───────┬────┬─────┬───────┬──────┬───┬──────┬──────┐\n",
       "│Col│Loc│MAXLINES│SHADE│Sel│columns│iloc│index│indices│labels│loc│series│values│\n",
       "└───┴───┴────────┴─────┴───┴───────┴────┴─────┴───────┴──────┴───┴──────┴──────┘\n",
       "</pre>"
      ]
     },
     "execution_count": 1376,
     "metadata": {},
     "output_type": "execute_result"
    }
   ],
   "source": [
    "df2.⎕NL-⍳9"
   ]
  },
  {
   "cell_type": "markdown",
   "id": "6f84338e",
   "metadata": {},
   "source": [
    "## Viewing data"
   ]
  },
  {
   "cell_type": "code",
   "execution_count": 1377,
   "id": "3acfff25",
   "metadata": {},
   "outputs": [
    {
     "data": {
      "text/html": [
       "<pre class=\"language-APL\">                 A      B      C      D            │     A       B       C      D\n",
       " ──────────────────────────────────────  ──────────│─────────────────────────────\n",
       "  2013 1 1  ¯0.746  0.488 ¯0.374  0.655   2013 1 1 │¯0.567 ¯0.454   0.168   0.475\n",
       "  2013 1 2  ¯0.888  0.952  0.836  0.658   2013 1 2 │¯0.35  ¯0.75    0.513  ¯0.437\n",
       " ░2013░1░3░░░0.407░¯0.664░¯0.682░░0.546  ░2013░1░3░│¯0.532░░0.015░░¯0.678░░░0.554\n",
       "  2013 1 4   0.89   0.973 ¯0.493  0.276   2013 1 4 │ 0.374  0.292  ¯0.323  ¯0.654\n",
       "  2013 1 5   0.848  0.279  0.211  0.437   2013 1 5 │ 0.399  0.0241 ¯0.854  ¯0.39\n",
       " ░2013░1░6░░¯0.708░¯0.957░░0.804░¯0.933  ░2013░1░6░│¯0.329░░0.207░░¯0.0566░¯0.709\n",
       "</pre>"
      ]
     },
     "execution_count": 1377,
     "metadata": {},
     "output_type": "execute_result"
    }
   ],
   "source": [
    "head←{⍺←10 ⋄ (⍺⌊≢⍵.values)↑data.at⊢⍵}\n",
    "(head df)(head di)"
   ]
  },
  {
   "cell_type": "code",
   "execution_count": 1378,
   "id": "5418bdca",
   "metadata": {},
   "outputs": [
    {
     "data": {
      "text/html": [
       "<pre class=\"language-APL\">                 A      B      C      D            │     A      B       C      D\n",
       " ──────────────────────────────────────  ──────────│────────────────────────────\n",
       "  2013 1 4   0.89   0.973 ¯0.493  0.276   2013 1 4 │ 0.374 0.292  ¯0.323  ¯0.654\n",
       "  2013 1 5   0.848  0.279  0.211  0.437   2013 1 5 │ 0.399 0.0241 ¯0.854  ¯0.39\n",
       " ░2013░1░6░░¯0.708░¯0.957░░0.804░¯0.933  ░2013░1░6░│¯0.329░0.207░░¯0.0566░¯0.709\n",
       "</pre>"
      ]
     },
     "execution_count": 1378,
     "metadata": {},
     "output_type": "execute_result"
    }
   ],
   "source": [
    "tail←{⍺←10 ⋄ (-⍺⌊≢⍵.values)↑data.at⊢⍵}\n",
    "(3 tail df)(3 tail di)"
   ]
  },
  {
   "cell_type": "code",
   "execution_count": 1379,
   "id": "1e29761b",
   "metadata": {},
   "outputs": [
    {
     "data": {
      "text/html": [
       "<pre class=\"language-APL\">┌────────┬────────┬────────┬────────┬────────┬────────┐\n",
       "│2013 1 1│2013 1 2│2013 1 3│2013 1 4│2013 1 5│2013 1 6│\n",
       "└────────┴────────┴────────┴────────┴────────┴────────┘\n",
       "┌┬─┬─┬─┬─┐\n",
       "││A│B│C│D│\n",
       "└┴─┴─┴─┴─┘\n",
       "┌────────┬─────────────┬─────────────┬─────────────┬─────────────┐\n",
       "│2013 1 1│¯0.745889404 │0.4878201505 │¯0.37375217  │0.6548110626 │\n",
       "├────────┼─────────────┼─────────────┼─────────────┼─────────────┤\n",
       "│2013 1 2│¯0.888159079 │0.9518118539 │0.8359315522 │0.6579361765 │\n",
       "├────────┼─────────────┼─────────────┼─────────────┼─────────────┤\n",
       "│2013 1 3│0.4073306739 │¯0.6638994588│¯0.6820815366│0.5462953879 │\n",
       "├────────┼─────────────┼─────────────┼─────────────┼─────────────┤\n",
       "│2013 1 4│0.8900395242 │0.972853114  │¯0.493489543 │0.2762697902 │\n",
       "├────────┼─────────────┼─────────────┼─────────────┼─────────────┤\n",
       "│2013 1 5│0.8482444869 │0.2793364727 │0.2110427563 │0.4367044997 │\n",
       "├────────┼─────────────┼─────────────┼─────────────┼─────────────┤\n",
       "│2013 1 6│¯0.7079699028│¯0.9572322623│0.803571574  │¯0.9326128677│\n",
       "└────────┴─────────────┴─────────────┴─────────────┴─────────────┘\n",
       "</pre>"
      ]
     },
     "execution_count": 1379,
     "metadata": {},
     "output_type": "execute_result"
    },
    {
     "data": {
      "text/html": [
       "<pre class=\"language-APL\">┌────────┬────────┬────────┬────────┬────────┬────────┐\n",
       "│2013 1 1│2013 1 2│2013 1 3│2013 1 4│2013 1 5│2013 1 6│\n",
       "└────────┴────────┴────────┴────────┴────────┴────────┘\n",
       "┌┬─┬─┬─┬─┐\n",
       "││A│B│C│D│\n",
       "└┴─┴─┴─┴─┘\n",
       "┌────────┬─────────────┬─────────────┬──────────────┬─────────────┐\n",
       "│2013 1 1│¯0.5674069301│¯0.4540548068│0.1677673984  │0.4753480741 │\n",
       "├────────┼─────────────┼─────────────┼──────────────┼─────────────┤\n",
       "│2013 1 2│¯0.3501604286│¯0.7500774686│0.5128584646  │¯0.4369028943│\n",
       "├────────┼─────────────┼─────────────┼──────────────┼─────────────┤\n",
       "│2013 1 3│¯0.5320688092│0.01500842644│¯0.6777669326 │0.5542957451 │\n",
       "├────────┼─────────────┼─────────────┼──────────────┼─────────────┤\n",
       "│2013 1 4│0.3742690958 │0.2921607576 │¯0.3230150609 │¯0.6537846518│\n",
       "├────────┼─────────────┼─────────────┼──────────────┼─────────────┤\n",
       "│2013 1 5│0.3990462918 │0.02408093455│¯0.8539984814 │¯0.3896566122│\n",
       "├────────┼─────────────┼─────────────┼──────────────┼─────────────┤\n",
       "│2013 1 6│¯0.328891967 │0.2070101698 │¯0.05657958391│¯0.7088405757│\n",
       "└────────┴─────────────┴─────────────┴──────────────┴─────────────┘\n",
       "</pre>"
      ]
     },
     "execution_count": 1379,
     "metadata": {},
     "output_type": "execute_result"
    },
    {
     "data": {
      "text/html": [
       "<pre class=\"language-APL\">┌┬──────────┐\n",
       "││┌┬─┬─┬─┬─┐│\n",
       "││││A│B│C│D││\n",
       "││└┴─┴─┴─┴─┘│\n",
       "└┴──────────┘\n",
       "</pre>"
      ]
     },
     "execution_count": 1379,
     "metadata": {},
     "output_type": "execute_result"
    },
    {
     "data": {
      "text/html": [
       "<pre class=\"language-APL\">┌──┬────┐\n",
       "│┌┐│ABCD│\n",
       "││││    │\n",
       "│└┘│    │\n",
       "└──┴────┘\n",
       "</pre>"
      ]
     },
     "execution_count": 1379,
     "metadata": {},
     "output_type": "execute_result"
    }
   ],
   "source": [
    "df[;⊂''] ⋄ df.labels ⋄ df[;]\n",
    "di[;⊂''] ⋄ di.labels ⋄ di[;]\n",
    "(df.index)(df.columns)\n",
    "(di.index)(di.columns)"
   ]
  },
  {
   "cell_type": "code",
   "execution_count": 1380,
   "id": "8cb3b4c2",
   "metadata": {},
   "outputs": [],
   "source": [
    "⍝ TODO: describe"
   ]
  },
  {
   "cell_type": "code",
   "execution_count": 1381,
   "id": "8e7beb34",
   "metadata": {},
   "outputs": [
    {
     "data": {
      "text/html": [
       "<pre class=\"language-APL\">   2013 1 1  2013 1 2  2013 1 3  2013 1 4  2013 1 5  2013 1 6\n",
       "──────────────────────────────────────────────────────────────\n",
       "A    ¯0.746    ¯0.888     0.407     0.89      0.848    ¯0.708\n",
       "B     0.488     0.952    ¯0.664     0.973     0.279    ¯0.957\n",
       "C░░░░¯0.374░░░░░0.836░░░░¯0.682░░░░¯0.493░░░░░0.211░░░░░0.804░\n",
       "D     0.655     0.658     0.546     0.276     0.437    ¯0.933\n",
       "</pre>"
      ]
     },
     "execution_count": 1381,
     "metadata": {},
     "output_type": "execute_result"
    }
   ],
   "source": [
    "1(↑data.frame↓)⍉df.(labels⍪values)"
   ]
  },
  {
   "cell_type": "code",
   "execution_count": 1382,
   "id": "6a2bfe66",
   "metadata": {},
   "outputs": [
    {
     "data": {
      "text/html": [
       "<pre class=\"language-APL\">  │ 2013 1 1  2013 1 2  2013 1 3  2013 1 4  2013 1 5  2013 1 6\n",
       "──│────────────────────────────────────────────────────────────\n",
       "A │   ¯0.567    ¯0.35     ¯0.532     0.374    0.399    ¯0.329\n",
       "B │   ¯0.454    ¯0.75      0.015     0.292    0.0241    0.207\n",
       "C░│░░░░0.168░░░░░0.513░░░░¯0.678░░░░¯0.323░░░¯0.854░░░░¯0.0566░\n",
       "D │    0.475    ¯0.437     0.554    ¯0.654   ¯0.39     ¯0.709\n",
       "</pre>"
      ]
     },
     "execution_count": 1382,
     "metadata": {},
     "output_type": "execute_result"
    }
   ],
   "source": [
    "1({⍺↑⍵.series}data.index⊢)1(↑data.frame↓)⍉di.(labels⍪values)"
   ]
  },
  {
   "cell_type": "code",
   "execution_count": 1383,
   "id": "3335d96d",
   "metadata": {},
   "outputs": [
    {
     "data": {
      "text/html": [
       "<pre class=\"language-APL\">                 A      B      C      D            │     A       B       C      D\n",
       " ──────────────────────────────────────  ──────────│─────────────────────────────\n",
       "  2013 1 1  ¯0.746  0.488 ¯0.374  0.655   2013 1 1 │¯0.567 ¯0.454   0.168   0.475\n",
       "  2013 1 2  ¯0.888  0.952  0.836  0.658   2013 1 2 │¯0.35  ¯0.75    0.513  ¯0.437\n",
       " ░2013░1░3░░░0.407░¯0.664░¯0.682░░0.546  ░2013░1░3░│¯0.532░░0.015░░¯0.678░░░0.554\n",
       "  2013 1 4   0.89   0.973 ¯0.493  0.276   2013 1 4 │ 0.374  0.292  ¯0.323  ¯0.654\n",
       "  2013 1 5   0.848  0.279  0.211  0.437   2013 1 5 │ 0.399  0.0241 ¯0.854  ¯0.39\n",
       " ░2013░1░6░░¯0.708░¯0.957░░0.804░¯0.933  ░2013░1░6░│¯0.329░░0.207░░¯0.0566░¯0.709\n",
       "</pre>"
      ]
     },
     "execution_count": 1383,
     "metadata": {},
     "output_type": "execute_result"
    },
    {
     "data": {
      "text/html": [
       "<pre class=\"language-APL\">                 A      B      C      D            │     A       B       C      D\n",
       " ──────────────────────────────────────  ──────────│─────────────────────────────\n",
       "  2013 1 2  ¯0.888  0.952  0.836  0.658   2013 1 1 │¯0.567 ¯0.454   0.168   0.475\n",
       "  2013 1 1  ¯0.746  0.488 ¯0.374  0.655   2013 1 3 │¯0.532  0.015  ¯0.678   0.554\n",
       " ░2013░1░6░░¯0.708░¯0.957░░0.804░¯0.933  ░2013░1░2░│¯0.35░░¯0.75░░░░0.513░░¯0.437\n",
       "  2013 1 3   0.407 ¯0.664 ¯0.682  0.546   2013 1 6 │¯0.329  0.207  ¯0.0566 ¯0.709\n",
       "  2013 1 5   0.848  0.279  0.211  0.437   2013 1 4 │ 0.374  0.292  ¯0.323  ¯0.654\n",
       " ░2013░1░4░░░0.89░░░0.973░¯0.493░░0.276  ░2013░1░5░│░0.399░░0.0241░¯0.854░░¯0.39░\n",
       "</pre>"
      ]
     },
     "execution_count": 1383,
     "metadata": {},
     "output_type": "execute_result"
    }
   ],
   "source": [
    "((⊂'')⍋data.sort df)((⊂'')⍋data.sort di)\n",
    "((df.labels~⊂'')⍋data.sort df)((di.labels~⊂'')⍋data.sort di)"
   ]
  },
  {
   "cell_type": "markdown",
   "id": "d90b4d13",
   "metadata": {},
   "source": [
    "## Selection\n",
    "\n",
    "### Getitem"
   ]
  },
  {
   "cell_type": "code",
   "execution_count": 1384,
   "id": "c99d2c7b",
   "metadata": {},
   "outputs": [
    {
     "data": {
      "text/html": [
       "<pre class=\"language-APL\">     A\n",
       "──────\n",
       "¯0.746\n",
       "¯0.888\n",
       " 0.407\n",
       " 0.89\n",
       " 0.848\n",
       "¯0.708\n",
       "</pre>"
      ]
     },
     "execution_count": 1384,
     "metadata": {},
     "output_type": "execute_result"
    }
   ],
   "source": [
    "df['A']"
   ]
  },
  {
   "cell_type": "code",
   "execution_count": 1385,
   "id": "16426a6b",
   "metadata": {},
   "outputs": [
    {
     "data": {
      "text/html": [
       "<pre class=\"language-APL\">                A      B      C     D\n",
       "─────────────────────────────────────\n",
       " 2013 1 2  ¯0.888  0.952  0.836 0.658\n",
       " 2013 1 3   0.407 ¯0.664 ¯0.682 0.546\n",
       "░2013░1░4░░░0.89░░░0.973░¯0.493░0.276\n",
       "</pre>"
      ]
     },
     "execution_count": 1385,
     "metadata": {},
     "output_type": "execute_result"
    }
   ],
   "source": [
    "df data.frame df[1+⍳3;]"
   ]
  },
  {
   "cell_type": "code",
   "execution_count": 1386,
   "id": "c032d0d8",
   "metadata": {},
   "outputs": [],
   "source": [
    "⍝ TODO: df[\"20130102\":\"20130104\"]"
   ]
  },
  {
   "cell_type": "code",
   "execution_count": 1387,
   "id": "3f34f1fd",
   "metadata": {},
   "outputs": [
    {
     "data": {
      "text/html": [
       "<pre class=\"language-APL\">                A      B      C     D\n",
       "─────────────────────────────────────\n",
       " 2013 1 2  ¯0.888  0.952  0.836 0.658\n",
       " 2013 1 3   0.407 ¯0.664 ¯0.682 0.546\n",
       "░2013░1░4░░░0.89░░░0.973░¯0.493░0.276\n",
       "</pre>"
      ]
     },
     "execution_count": 1387,
     "metadata": {},
     "output_type": "execute_result"
    }
   ],
   "source": [
    "(⊂'')df.Sel(⊂2013 1),¨2 3 4"
   ]
  },
  {
   "cell_type": "code",
   "execution_count": 1388,
   "id": "938bb7c0",
   "metadata": {},
   "outputs": [
    {
     "data": {
      "text/html": [
       "<pre class=\"language-APL\">          │     A      B      C      D\n",
       "──────────│───────────────────────────\n",
       " 2013 1 2 │¯0.35  ¯0.75   0.513 ¯0.437\n",
       " 2013 1 3 │¯0.532  0.015 ¯0.678  0.554\n",
       "░2013░1░4░│░0.374░░0.292░¯0.323░¯0.654\n",
       "</pre>"
      ]
     },
     "execution_count": 1388,
     "metadata": {},
     "output_type": "execute_result"
    }
   ],
   "source": [
    "di.Sel(⊂2013 1),¨2 3 4"
   ]
  },
  {
   "cell_type": "markdown",
   "id": "dad722ae",
   "metadata": {},
   "source": [
    "### Selection by label"
   ]
  },
  {
   "cell_type": "code",
   "execution_count": 1389,
   "id": "185ccca9",
   "metadata": {},
   "outputs": [
    {
     "data": {
      "text/html": [
       "<pre class=\"language-APL\">                A     B      C     D\n",
       "────────────────────────────────────\n",
       " 2013 1 1  ¯0.746 0.488 ¯0.374 0.655\n",
       "</pre>"
      ]
     },
     "execution_count": 1389,
     "metadata": {},
     "output_type": "execute_result"
    }
   ],
   "source": [
    "i←(,df[;''])⍳dates[1]\n",
    "df data.frame df[,i;]"
   ]
  },
  {
   "cell_type": "code",
   "execution_count": 1390,
   "id": "8a7b8f0d",
   "metadata": {},
   "outputs": [
    {
     "data": {
      "text/html": [
       "<pre class=\"language-APL\">                 A     B      C     D            │     A      B     C     D\n",
       " ────────────────────────────────────  ──────────│─────────────────────────\n",
       "  2013 1 1  ¯0.746 0.488 ¯0.374 0.655   2013 1 1 │¯0.567 ¯0.454 0.168 0.475\n",
       "</pre>"
      ]
     },
     "execution_count": 1390,
     "metadata": {},
     "output_type": "execute_result"
    }
   ],
   "source": [
    "((⊂'')df.Sel dates[1])(di.Sel dates[1])"
   ]
  },
  {
   "cell_type": "code",
   "execution_count": 1391,
   "id": "c08f4068",
   "metadata": {},
   "outputs": [
    {
     "data": {
      "text/html": [
       "<pre class=\"language-APL\">                A      B\n",
       "────────────────────────\n",
       " 2013 1 1  ¯0.746  0.488\n",
       " 2013 1 2  ¯0.888  0.952\n",
       "░2013░1░3░░░0.407░¯0.664\n",
       " 2013 1 4   0.89   0.973\n",
       " 2013 1 5   0.848  0.279\n",
       "░2013░1░6░░¯0.708░¯0.957\n",
       "</pre>"
      ]
     },
     "execution_count": 1391,
     "metadata": {},
     "output_type": "execute_result"
    }
   ],
   "source": [
    "data.frame df['' 'A' 'B']"
   ]
  },
  {
   "cell_type": "code",
   "execution_count": 1392,
   "id": "2658487c",
   "metadata": {},
   "outputs": [
    {
     "data": {
      "text/html": [
       "<pre class=\"language-APL\">          │     A       B\n",
       "──────────│──────────────\n",
       " 2013 1 1 │¯0.567 ¯0.454\n",
       " 2013 1 2 │¯0.35  ¯0.75\n",
       "░2013░1░3░│¯0.532░░0.015░\n",
       " 2013 1 4 │ 0.374  0.292\n",
       " 2013 1 5 │ 0.399  0.0241\n",
       "░2013░1░6░│¯0.329░░0.207░\n",
       "</pre>"
      ]
     },
     "execution_count": 1392,
     "metadata": {},
     "output_type": "execute_result"
    }
   ],
   "source": [
    "di.Loc'AB'"
   ]
  },
  {
   "cell_type": "code",
   "execution_count": 1393,
   "id": "5bca3055",
   "metadata": {},
   "outputs": [
    {
     "data": {
      "text/html": [
       "<pre class=\"language-APL\">¯0.746\n",
       "¯0.567\n",
       "</pre>"
      ]
     },
     "execution_count": 1393,
     "metadata": {},
     "output_type": "execute_result"
    }
   ],
   "source": [
    "df[1;'A'] ⋄ di[⊂2013 1 1;'A']"
   ]
  },
  {
   "cell_type": "markdown",
   "id": "29b5bc0d",
   "metadata": {},
   "source": [
    "### Selection by position"
   ]
  },
  {
   "cell_type": "code",
   "execution_count": 1394,
   "id": "5e365bca",
   "metadata": {},
   "outputs": [
    {
     "data": {
      "text/html": [
       "<pre class=\"language-APL\">               A      B      C     D\n",
       "────────────────────────────────────\n",
       " 2013 1 3  0.407 ¯0.664 ¯0.682 0.546\n",
       "</pre>"
      ]
     },
     "execution_count": 1394,
     "metadata": {},
     "output_type": "execute_result"
    }
   ],
   "source": [
    "df data.frame df[,3;]"
   ]
  },
  {
   "cell_type": "code",
   "execution_count": 1395,
   "id": "4ed799ed",
   "metadata": {},
   "outputs": [
    {
     "data": {
      "text/html": [
       "<pre class=\"language-APL\">┌────────┬─────────────┬─────────────┬──────────────┬─────────────┐\n",
       "│2013 1 1│¯0.5674069301│¯0.4540548068│0.1677673984  │0.4753480741 │\n",
       "├────────┼─────────────┼─────────────┼──────────────┼─────────────┤\n",
       "│2013 1 2│¯0.3501604286│¯0.7500774686│0.5128584646  │¯0.4369028943│\n",
       "├────────┼─────────────┼─────────────┼──────────────┼─────────────┤\n",
       "│2013 1 3│¯0.5320688092│0.01500842644│¯0.6777669326 │0.5542957451 │\n",
       "├────────┼─────────────┼─────────────┼──────────────┼─────────────┤\n",
       "│2013 1 4│0.3742690958 │0.2921607576 │¯0.3230150609 │¯0.6537846518│\n",
       "├────────┼─────────────┼─────────────┼──────────────┼─────────────┤\n",
       "│2013 1 5│0.3990462918 │0.02408093455│¯0.8539984814 │¯0.3896566122│\n",
       "├────────┼─────────────┼─────────────┼──────────────┼─────────────┤\n",
       "│2013 1 6│¯0.328891967 │0.2070101698 │¯0.05657958391│¯0.7088405757│\n",
       "└────────┴─────────────┴─────────────┴──────────────┴─────────────┘\n",
       "</pre>"
      ]
     },
     "execution_count": 1395,
     "metadata": {},
     "output_type": "execute_result"
    }
   ],
   "source": [
    "di.iloc[;]"
   ]
  },
  {
   "cell_type": "code",
   "execution_count": 1396,
   "id": "3b0457b1",
   "metadata": {},
   "outputs": [
    {
     "data": {
      "text/html": [
       "<pre class=\"language-APL\">┌────────┬────────────┬────────────┐\n",
       "│2013 1 4│0.8900395242│0.972853114 │\n",
       "├────────┼────────────┼────────────┤\n",
       "│2013 1 5│0.8482444869│0.2793364727│\n",
       "└────────┴────────────┴────────────┘\n",
       "</pre>"
      ]
     },
     "execution_count": 1396,
     "metadata": {},
     "output_type": "execute_result"
    },
    {
     "data": {
      "text/html": [
       "<pre class=\"language-APL\">┌────────┬────────────┬─────────────┐\n",
       "│2013 1 2│¯0.888159079│0.8359315522 │\n",
       "├────────┼────────────┼─────────────┤\n",
       "│2013 1 3│0.4073306739│¯0.6820815366│\n",
       "├────────┼────────────┼─────────────┤\n",
       "│2013 1 5│0.8482444869│0.2110427563 │\n",
       "└────────┴────────────┴─────────────┘\n",
       "</pre>"
      ]
     },
     "execution_count": 1396,
     "metadata": {},
     "output_type": "execute_result"
    },
    {
     "data": {
      "text/html": [
       "<pre class=\"language-APL\">┌────────┬────────────┬─────────────┬─────────────┬────────────┐\n",
       "│2013 1 2│¯0.888159079│0.9518118539 │0.8359315522 │0.6579361765│\n",
       "├────────┼────────────┼─────────────┼─────────────┼────────────┤\n",
       "│2013 1 3│0.4073306739│¯0.6638994588│¯0.6820815366│0.5462953879│\n",
       "└────────┴────────────┴─────────────┴─────────────┴────────────┘\n",
       "</pre>"
      ]
     },
     "execution_count": 1396,
     "metadata": {},
     "output_type": "execute_result"
    },
    {
     "data": {
      "text/html": [
       "<pre class=\"language-APL\">┌────────┬─────────────┬─────────────┐\n",
       "│2013 1 1│¯0.745889404 │0.4878201505 │\n",
       "├────────┼─────────────┼─────────────┤\n",
       "│2013 1 2│¯0.888159079 │0.9518118539 │\n",
       "├────────┼─────────────┼─────────────┤\n",
       "│2013 1 3│0.4073306739 │¯0.6638994588│\n",
       "├────────┼─────────────┼─────────────┤\n",
       "│2013 1 4│0.8900395242 │0.972853114  │\n",
       "├────────┼─────────────┼─────────────┤\n",
       "│2013 1 5│0.8482444869 │0.2793364727 │\n",
       "├────────┼─────────────┼─────────────┤\n",
       "│2013 1 6│¯0.7079699028│¯0.9572322623│\n",
       "└────────┴─────────────┴─────────────┘\n",
       "</pre>"
      ]
     },
     "execution_count": 1396,
     "metadata": {},
     "output_type": "execute_result"
    },
    {
     "data": {
      "text/html": [
       "<pre class=\"language-APL\">¯0.888\n",
       "</pre>"
      ]
     },
     "execution_count": 1396,
     "metadata": {},
     "output_type": "execute_result"
    }
   ],
   "source": [
    "to←{(⍺-⎕IO)+⍳⍵-⍺}\n",
    "df.iloc[4 to 6;1 to 4] ⍝ df.iloc[3:5, 0:2]\n",
    "df.iloc[2 3 5;1 2 4] ⍝ df.iloc[[1, 2, 4], [0, 2]]\n",
    "df.iloc[2 to 4;]\n",
    "df.iloc[;1 to 4]\n",
    "df.iloc[2;2]"
   ]
  },
  {
   "cell_type": "markdown",
   "id": "0a310cc9",
   "metadata": {},
   "source": [
    "### Boolean indexing"
   ]
  },
  {
   "cell_type": "code",
   "execution_count": 1397,
   "id": "a3cbc732",
   "metadata": {},
   "outputs": [
    {
     "name": "stderr",
     "output_type": "stream",
     "text": [
      "LENGTH ERROR\n",
      "at[3] ⍵ frame ⍺ ⍺⍺{⍺←⊢ ⋄ ⍵.label series ⍺ ⍺⍺⊣⍵[]}¨@(l⍳⍵⍵⊣l←⍵[].label)⊢⍵[]\n",
      "                                                ∧\n",
      "LENGTH ERROR\n",
      "at[3] ⍵ frame ⍺ ⍺⍺{⍺←⊢ ⋄ ⍵.label series ⍺ ⍺⍺⊣⍵[]}¨@(l⍳⍵⍵⊣l←⍵[].label)⊢⍵[]\n",
      "                                                ∧\n"
     ]
    },
    {
     "data": {
      "text/html": [
       "<pre class=\"language-APL\">                A      B      C      D             │     A       B      C      D\n",
       " ──────────────────────────────────────  ──────────│─────────────────────────────\n",
       "  2013 1 1   nan   0.488   nan   0.655    2013 1 1 │  nan     nan   0.168  0.475\n",
       "  2013 1 2         0.952  0.836  0.658    2013 1 2 │                0.513   nan\n",
       " ░2013░1░3░░0.407░░░nan░░░░nan░░░0.546░  ░2013░1░3░│░░░░░░░░0.015░░░░nan░░░0.554░\n",
       "  2013 1 4  0.89   0.973         0.276    2013 1 4 │ 0.374  0.292           nan\n",
       "  2013 1 5  0.848  0.279  0.211  0.437    2013 1 5 │ 0.399  0.0241\n",
       " ░2013░1░6░░░nan░░░░nan░░░0.804░░░nan░░  ░2013░1░6░│░░nan░░░0.207░░░░░░░░░░░░░░░░\n",
       "</pre>"
      ]
     },
     "execution_count": 1397,
     "metadata": {},
     "output_type": "execute_result"
    }
   ],
   "source": [
    "((df[;'A']>0)/data.at⊢df)((di[;'A']>0)/data.at⊢di)\n",
    "((df[;'A']<0)/data.at⊢df)((di[;'A']<0)/data.at⊢di)\n",
    "((⊂'nan')@(<∘0)¨data.at⊢df)((⊂'nan')@(<∘0)¨data.at⊢di)"
   ]
  },
  {
   "cell_type": "code",
   "execution_count": 1398,
   "id": "f9c7cb00",
   "metadata": {},
   "outputs": [
    {
     "data": {
      "text/html": [
       "<pre class=\"language-APL\">                A      B      C      D  E\n",
       "──────────────────────────────────────────────\n",
       " 2013 1 1  ¯0.746  0.488 ¯0.374  0.655  one\n",
       " 2013 1 2  ¯0.888  0.952  0.836  0.658\n",
       "░2013░1░3░░░0.407░¯0.664░¯0.682░░0.546░░two░░░\n",
       " 2013 1 4   0.89   0.973 ¯0.493  0.276  three\n",
       " 2013 1 5   0.848  0.279  0.211  0.437  four\n",
       "░2013░1░6░░¯0.708░¯0.957░░0.804░¯0.933░░three░\n",
       "</pre>"
      ]
     },
     "execution_count": 1398,
     "metadata": {},
     "output_type": "execute_result"
    }
   ],
   "source": [
    "⊢df2←data.frame df[],'E'data.series'one' 'one' 'two' 'three' 'four' 'three'"
   ]
  },
  {
   "cell_type": "code",
   "execution_count": 1399,
   "id": "78a362d6",
   "metadata": {},
   "outputs": [
    {
     "data": {
      "text/html": [
       "<pre class=\"language-APL\">          │     A       B       C      D  E\n",
       "──────────│─────────────────────────────────────\n",
       " 2013 1 1 │¯0.567 ¯0.454   0.168   0.475  one\n",
       " 2013 1 2 │¯0.35  ¯0.75    0.513  ¯0.437\n",
       "░2013░1░3░│¯0.532░░0.015░░¯0.678░░░0.554░░two░░░\n",
       " 2013 1 4 │ 0.374  0.292  ¯0.323  ¯0.654  three\n",
       " 2013 1 5 │ 0.399  0.0241 ¯0.854  ¯0.39   four\n",
       "░2013░1░6░│¯0.329░░0.207░░¯0.0566░¯0.709░░three░\n",
       "</pre>"
      ]
     },
     "execution_count": 1399,
     "metadata": {},
     "output_type": "execute_result"
    }
   ],
   "source": [
    "⊢di2←di.index data.index di[],'E'data.series'one' 'one' 'two' 'three' 'four' 'three'"
   ]
  },
  {
   "cell_type": "code",
   "execution_count": 1400,
   "id": "ed7eeaf7",
   "metadata": {},
   "outputs": [
    {
     "data": {
      "text/html": [
       "<pre class=\"language-APL\">                A      B      C     D  E                │     A      B      C      D  E\n",
       " ───────────────────────────────────────────  ──────────│──────────────────────────────────\n",
       "  2013 1 3  0.407 ¯0.664 ¯0.682 0.546  two     2013 1 3 │¯0.532 0.015  ¯0.678  0.554  two\n",
       "  2013 1 5  0.848  0.279  0.211 0.437  four    2013 1 5 │ 0.399 0.0241 ¯0.854 ¯0.39   four\n",
       "</pre>"
      ]
     },
     "execution_count": 1400,
     "metadata": {},
     "output_type": "execute_result"
    }
   ],
   "source": [
    "(df2 data.frame(df2[;'E']∊'two' 'four')⌿df2[;])(di2 data.frame(di2[;'E']∊'two' 'four')⌿di2[;])"
   ]
  },
  {
   "cell_type": "markdown",
   "id": "46b9d7a0",
   "metadata": {},
   "source": [
    "### Setting"
   ]
  },
  {
   "cell_type": "code",
   "execution_count": 1401,
   "id": "c99e6a82",
   "metadata": {},
   "outputs": [
    {
     "data": {
      "text/html": [
       "<pre class=\"language-APL\">\n",
       "─────────\n",
       " 2013 1 2\n",
       " 2013 1 3\n",
       " 2013 1 4\n",
       " 2013 1 5\n",
       " 2013 1 6\n",
       " 2013 1 7\n",
       "</pre>"
      ]
     },
     "execution_count": 1401,
     "metadata": {},
     "output_type": "execute_result"
    },
    {
     "data": {
      "text/html": [
       "<pre class=\"language-APL\">           F\n",
       "────────────\n",
       " 2013 1 2  1\n",
       " 2013 1 3  2\n",
       "░2013░1░4░░3\n",
       " 2013 1 5  4\n",
       " 2013 1 6  5\n",
       "░2013░1░7░░6\n",
       "</pre>"
      ]
     },
     "execution_count": 1401,
     "metadata": {},
     "output_type": "execute_result"
    }
   ],
   "source": [
    "⍝ TODO\n",
    "⊢dates2←''data.series(⊂2013 1),¨1+⍳6\n",
    "⊢s1←data.frame dates2('F'data.series⍳6)"
   ]
  },
  {
   "cell_type": "code",
   "execution_count": 1402,
   "id": "08ff96bc",
   "metadata": {},
   "outputs": [
    {
     "data": {
      "text/html": [
       "<pre class=\"language-APL\">                 A      B      C      D            │     A       B       C      D\n",
       " ──────────────────────────────────────  ──────────│─────────────────────────────\n",
       "  2013 1 1  ¯0.746  0.488 ¯0.374  0.655   2013 1 1 │¯0.567 ¯0.454   0.168   0.475\n",
       "  2013 1 2  ¯0.888  0.952  0.836  0.658   2013 1 2 │¯0.35  ¯0.75    0.513  ¯0.437\n",
       " ░2013░1░3░░░0.407░¯0.664░¯0.682░░0.546  ░2013░1░3░│¯0.532░░0.015░░¯0.678░░░0.554\n",
       "  2013 1 4   0.89   0.973 ¯0.493  0.276   2013 1 4 │ 0.374  0.292  ¯0.323  ¯0.654\n",
       "  2013 1 5   0.848  0.279  0.211  0.437   2013 1 5 │ 0.399  0.0241 ¯0.854  ¯0.39\n",
       " ░2013░1░6░░¯0.708░¯0.957░░0.804░¯0.933  ░2013░1░6░│¯0.329░░0.207░░¯0.0566░¯0.709\n",
       "</pre>"
      ]
     },
     "execution_count": 1402,
     "metadata": {},
     "output_type": "execute_result"
    }
   ],
   "source": [
    "df di"
   ]
  },
  {
   "cell_type": "code",
   "execution_count": 1403,
   "id": "9db40708",
   "metadata": {},
   "outputs": [
    {
     "data": {
      "text/html": [
       "<pre class=\"language-APL\">                 A      B      C      D    F             │     A       B       C      D    F\n",
       " ────────────────────────────────────────────  ──────────│───────────────────────────────────\n",
       "  2013 1 1  ¯0.746  0.488 ¯0.374  0.655  nan    2013 1 1 │¯0.567 ¯0.454   0.168   0.475  nan\n",
       "  2013 1 2  ¯0.888  0.952  0.836  0.658    1    2013 1 2 │¯0.35  ¯0.75    0.513  ¯0.437    1\n",
       " ░2013░1░3░░░0.407░¯0.664░¯0.682░░0.546░░░░2░  ░2013░1░3░│¯0.532░░0.015░░¯0.678░░░0.554░░░░2░\n",
       "  2013 1 4   0.89   0.973 ¯0.493  0.276    3    2013 1 4 │ 0.374  0.292  ¯0.323  ¯0.654    3\n",
       "  2013 1 5   0.848  0.279  0.211  0.437    4    2013 1 5 │ 0.399  0.0241 ¯0.854  ¯0.39     4\n",
       " ░2013░1░6░░¯0.708░¯0.957░░0.804░¯0.933░░░░5░  ░2013░1░6░│¯0.329░░0.207░░¯0.0566░¯0.709░░░░5░\n",
       "</pre>"
      ]
     },
     "execution_count": 1403,
     "metadata": {},
     "output_type": "execute_result"
    }
   ],
   "source": [
    "(dfn←df((⊂'nan')data.join⊣)s1)(din←di((⊂'nan')data.join⊣)s1)"
   ]
  },
  {
   "cell_type": "code",
   "execution_count": 1404,
   "id": "7ce470a1",
   "metadata": {},
   "outputs": [
    {
     "data": {
      "text/html": [
       "<pre class=\"language-APL\">          │      A       B       C      D\n",
       "──────────│──────────────────────────────\n",
       " 2013 1 1 │100     ¯0.454   0.168   0.475\n",
       " 2013 1 2 │ ¯0.35  ¯0.75    0.513  ¯0.437\n",
       "░2013░1░3░│░¯0.532░░0.015░░¯0.678░░░0.554\n",
       " 2013 1 4 │  0.374  0.292  ¯0.323  ¯0.654\n",
       " 2013 1 5 │  0.399  0.0241 ¯0.854  ¯0.39\n",
       "░2013░1░6░│░¯0.329░░0.207░░¯0.0566░¯0.709\n",
       "</pre>"
      ]
     },
     "execution_count": 1404,
     "metadata": {},
     "output_type": "execute_result"
    },
    {
     "data": {
      "text/html": [
       "<pre class=\"language-APL\">          │     A       B       C      D\n",
       "──────────│─────────────────────────────\n",
       " 2013 1 1 │ 0     ¯0.454   0.168   0.475\n",
       " 2013 1 2 │¯0.35  ¯0.75    0.513  ¯0.437\n",
       "░2013░1░3░│¯0.532░░0.015░░¯0.678░░░0.554\n",
       " 2013 1 4 │ 0.374  0.292  ¯0.323  ¯0.654\n",
       " 2013 1 5 │ 0.399  0.0241 ¯0.854  ¯0.39\n",
       "░2013░1░6░│¯0.329░░0.207░░¯0.0566░¯0.709\n",
       "</pre>"
      ]
     },
     "execution_count": 1404,
     "metadata": {},
     "output_type": "execute_result"
    }
   ],
   "source": [
    "di⊣di[dates[1];'A']←100\n",
    "di⊣di.iloc[1;2]←0"
   ]
  },
  {
   "cell_type": "code",
   "execution_count": 1405,
   "id": "efb05d81",
   "metadata": {},
   "outputs": [
    {
     "data": {
      "text/html": [
       "<pre class=\"language-APL\">                A      B      C      D\n",
       "──────────────────────────────────────\n",
       " 2013 1 1  ¯0.746  0.488 ¯0.374  0.655\n",
       " 2013 1 2  ¯0.888  0.952  0.836  0.658\n",
       "░2013░1░3░░░0.407░¯0.664░¯0.682░░0.546\n",
       " 2013 1 4   0.89   0.973 ¯0.493  0.276\n",
       " 2013 1 5   0.848  0.279  0.211  0.437\n",
       "░2013░1░6░░¯0.708░¯0.957░░0.804░¯0.933\n",
       "</pre>"
      ]
     },
     "execution_count": 1405,
     "metadata": {},
     "output_type": "execute_result"
    },
    {
     "data": {
      "text/html": [
       "<pre class=\"language-APL\">                A      B      C D\n",
       "─────────────────────────────────\n",
       " 2013 1 1  ¯0.746  0.488 ¯0.374 1\n",
       " 2013 1 2  ¯0.888  0.952  0.836 2\n",
       "░2013░1░3░░░0.407░¯0.664░¯0.682░3\n",
       " 2013 1 4   0.89   0.973 ¯0.493 4\n",
       " 2013 1 5   0.848  0.279  0.211 5\n",
       "░2013░1░6░░¯0.708░¯0.957░░0.804░6\n",
       "</pre>"
      ]
     },
     "execution_count": 1405,
     "metadata": {},
     "output_type": "execute_result"
    }
   ],
   "source": [
    "df\n",
    "df[;'D']←⍳6\n",
    "df"
   ]
  },
  {
   "cell_type": "code",
   "execution_count": 1406,
   "id": "bb11e99b",
   "metadata": {},
   "outputs": [
    {
     "data": {
      "text/html": [
       "<pre class=\"language-APL\">               A     B     C D\n",
       "──────────────────────────────\n",
       " 2013 1 1  0.746 0.488 0.374 1\n",
       " 2013 1 2  0.888 0.952 0.836 2\n",
       "░2013░1░3░░0.407░0.664░0.682░3\n",
       " 2013 1 4  0.89  0.973 0.493 4\n",
       " 2013 1 5  0.848 0.279 0.211 5\n",
       "░2013░1░6░░0.708░0.957░0.804░6\n",
       "</pre>"
      ]
     },
     "execution_count": 1406,
     "metadata": {},
     "output_type": "execute_result"
    }
   ],
   "source": [
    "-@(0∘>)data.at'ABCD'⊢df"
   ]
  },
  {
   "cell_type": "code",
   "execution_count": null,
   "id": "beccab78",
   "metadata": {},
   "outputs": [],
   "source": []
  },
  {
   "cell_type": "markdown",
   "id": "ca3035e2",
   "metadata": {},
   "source": [
    "## Missing data"
   ]
  },
  {
   "cell_type": "code",
   "execution_count": 1407,
   "id": "ed5ebdf9",
   "metadata": {},
   "outputs": [
    {
     "data": {
      "text/html": [
       "<pre class=\"language-APL\">          │     A      B      C     D    F    E\n",
       "──────────│─────────────────────────────────────\n",
       " 2013 1 1 │¯0.746  0.488 ¯0.374 0.655  nan  5.5\n",
       " 2013 1 2 │¯0.888  0.952  0.836 0.658    1\n",
       "░2013░1░3░│░0.407░¯0.664░¯0.682░0.546░░░░2░░nan░\n",
       " 2013 1 4 │ 0.89   0.973 ¯0.493 0.276    3\n",
       "</pre>"
      ]
     },
     "execution_count": 1407,
     "metadata": {},
     "output_type": "execute_result"
    }
   ],
   "source": [
    "e←(''data.series 2↑dates[])data.index'E'data.series 2/5.5\n",
    "⊢df1←(dfn.Sel⍳4)((⊂'nan')data.join⊣)e"
   ]
  },
  {
   "cell_type": "code",
   "execution_count": 1408,
   "id": "8adf09b1",
   "metadata": {},
   "outputs": [
    {
     "name": "stderr",
     "output_type": "stream",
     "text": [
      "LENGTH ERROR\n",
      "at[3] ⍵ frame ⍺ ⍺⍺{⍺←⊢ ⋄ ⍵.label series ⍺ ⍺⍺⊣⍵[]}¨@(l⍳⍵⍵⊣l←⍵[].label)⊢⍵[]\n",
      "                                                ∧\n"
     ]
    }
   ],
   "source": [
    "(~∨/data.nan df1[;])/data.at⊢df1 ⍝ dropna()"
   ]
  },
  {
   "cell_type": "code",
   "execution_count": 1409,
   "id": "5ad9d9f0",
   "metadata": {},
   "outputs": [
    {
     "data": {
      "text/html": [
       "<pre class=\"language-APL\">          │     A      B      C     D F   E\n",
       "──────────│────────────────────────────────\n",
       " 2013 1 1 │¯0.746  0.488 ¯0.374 0.655 5 5.5\n",
       " 2013 1 2 │¯0.888  0.952  0.836 0.658 1\n",
       "░2013░1░3░│░0.407░¯0.664░¯0.682░0.546░2░5░░\n",
       " 2013 1 4 │ 0.89   0.973 ¯0.493 0.276 3\n",
       "</pre>"
      ]
     },
     "execution_count": 1409,
     "metadata": {},
     "output_type": "execute_result"
    }
   ],
   "source": [
    "5 data.nan df1 ⍝ fillna()"
   ]
  },
  {
   "cell_type": "code",
   "execution_count": 1410,
   "id": "9d6bc599",
   "metadata": {},
   "outputs": [
    {
     "data": {
      "text/html": [
       "<pre class=\"language-APL\">          │A B C D F E\n",
       "──────────│───────────\n",
       " 2013 1 1 │0 0 0 0 1 0\n",
       " 2013 1 2 │        0\n",
       "░2013░1░3░│░░░░░░░░░░1\n",
       " 2013 1 4 │\n",
       "</pre>"
      ]
     },
     "execution_count": 1410,
     "metadata": {},
     "output_type": "execute_result"
    }
   ],
   "source": [
    "data.{nan at ⍵.columns⊢⍵}df1"
   ]
  },
  {
   "cell_type": "markdown",
   "id": "db1a6736",
   "metadata": {},
   "source": [
    "## Operations\n",
    "\n",
    "https://pandas.pydata.org/docs/user_guide/basics.html#flexible-binary-operations"
   ]
  },
  {
   "cell_type": "code",
   "execution_count": 1411,
   "id": "2aa2d6aa",
   "metadata": {},
   "outputs": [
    {
     "data": {
      "text/html": [
       "<pre class=\"language-APL\">i│   one     two  three\n",
       "─│──────────────────────\n",
       "a│0.344   0.528     nan\n",
       "b│0.0715  0.0867  0.741\n",
       "c│0.475░░░0.233░░░0.204░\n",
       "d│   nan  0.602   0.72\n",
       "</pre>"
      ]
     },
     "execution_count": 1411,
     "metadata": {},
     "output_type": "execute_result"
    }
   ],
   "source": [
    "⍝ df = pd.DataFrame(\n",
    "⍝     {\n",
    "⍝         \"one\": pd.Series(np.random.randn(3), index=[\"a\", \"b\", \"c\"]),\n",
    "⍝         \"two\": pd.Series(np.random.randn(4), index=[\"a\", \"b\", \"c\", \"d\"]),\n",
    "⍝         \"three\": pd.Series(np.random.randn(3), index=[\"b\", \"c\", \"d\"]),\n",
    "⍝     }\n",
    "⍝ )\n",
    "s1←('i'data.series'abc')data.index'one'data.series?3⍴0\n",
    "s2←('i'data.series'abcd')data.index'two'data.series?4⍴0\n",
    "s3←('i'data.series'bcd')data.index'three'data.series?3⍴0\n",
    "⊢df←(⊂'nan')data.join∪/s1 s2 s3"
   ]
  },
  {
   "cell_type": "code",
   "execution_count": 1412,
   "id": "720ca053",
   "metadata": {},
   "outputs": [
    {
     "data": {
      "text/html": [
       "<pre class=\"language-APL\">i│   one     two  three\n",
       "─│──────────────────────\n",
       "b│0.0715  0.0867  0.741\n",
       "</pre>"
      ]
     },
     "execution_count": 1412,
     "metadata": {},
     "output_type": "execute_result"
    },
    {
     "data": {
      "text/html": [
       "<pre class=\"language-APL\">i│   two\n",
       "─│───────\n",
       "a│0.528\n",
       "b│0.0867\n",
       "c│0.233░░\n",
       "d│0.602\n",
       "</pre>"
      ]
     },
     "execution_count": 1412,
     "metadata": {},
     "output_type": "execute_result"
    }
   ],
   "source": [
    "⊢row←⍬df.Sel 2\n",
    "⊢column←df.Loc⊂'two'"
   ]
  },
  {
   "cell_type": "code",
   "execution_count": 1416,
   "id": "967b580d",
   "metadata": {},
   "outputs": [
    {
     "data": {
      "text/html": [
       "<pre class=\"language-APL\">i│   one     two   three\n",
       "─│───────────────────────\n",
       "a│¯0.272  ¯0.441     nan\n",
       "b│ 0       0      0\n",
       "c│¯0.403░░¯0.146░░0.537░░\n",
       "d│   nan  ¯0.515  0.0206\n",
       "</pre>"
      ]
     },
     "execution_count": 1416,
     "metadata": {},
     "output_type": "execute_result"
    }
   ],
   "source": [
    "sub←{(,⍺){0::'nan' ⋄ ⍺-⍵}¨⍤1⊢⍵}\n",
    "df.(loc[index])data.index df.(loc[columns])data.frame row sub⍥{⍵.(loc[;columns])}df"
   ]
  },
  {
   "cell_type": "code",
   "execution_count": 1418,
   "id": "c7b252a7",
   "metadata": {},
   "outputs": [
    {
     "data": {
      "text/html": [
       "<pre class=\"language-APL\">i│    one  two   three\n",
       "─│─────────────────────\n",
       "a│ 0.184     0     nan\n",
       "b│ 0.0151       ¯0.654\n",
       "c│¯0.242░░░░░░░░░0.029░\n",
       "d│    nan       ¯0.119\n",
       "</pre>"
      ]
     },
     "execution_count": 1418,
     "metadata": {},
     "output_type": "execute_result"
    }
   ],
   "source": [
    "df.(loc[index])data.index df.(loc[columns])data.frame column⍉⍤sub∘⍉⍥{⍵.(loc[;columns])}df"
   ]
  },
  {
   "cell_type": "code",
   "execution_count": 1427,
   "id": "72f3403f",
   "metadata": {},
   "outputs": [
    {
     "data": {
      "text/html": [
       "<pre class=\"language-APL\">      div  mod\n",
       " ──  ──────────\n",
       " 40    13    1\n",
       " 56    18    2\n",
       " 56  ░░░░░░░░░░\n",
       " 57    19    0\n",
       "  9     3\n",
       " 37  ░░12░░░░1░\n",
       " 83    27    2\n",
       " 66    22    0\n",
       " 97  ░░32░░░░1░\n",
       " 32    10    2\n",
       "</pre>"
      ]
     },
     "execution_count": 1427,
     "metadata": {},
     "output_type": "execute_result"
    }
   ],
   "source": [
    "s←data.series?10⍴99\n",
    "s('div' 'mod'data.frame 3(⌊⍤÷⍨,⍥⍪|)s.values)"
   ]
  },
  {
   "cell_type": "markdown",
   "id": "f20c2901",
   "metadata": {},
   "source": [
    "### Stats"
   ]
  },
  {
   "cell_type": "code",
   "execution_count": 1438,
   "id": "2607d432",
   "metadata": {},
   "outputs": [
    {
     "data": {
      "text/html": [
       "<pre class=\"language-APL\">0.436 0.3 0.304 0.661\n",
       "</pre>"
      ]
     },
     "execution_count": 1438,
     "metadata": {},
     "output_type": "execute_result"
    },
    {
     "data": {
      "text/html": [
       "<pre class=\"language-APL\">0.297 0.362 0.555\n",
       "</pre>"
      ]
     },
     "execution_count": 1438,
     "metadata": {},
     "output_type": "execute_result"
    }
   ],
   "source": [
    "mean←(+⌿÷≢)⍤/⍤1\n",
    "(~data.nan df.(loc[;columns]))mean df.(loc[;columns])\n",
    "(~data.nan df.(loc[;columns]))mean⍥⍉df.(loc[;columns])"
   ]
  },
  {
   "cell_type": "markdown",
   "id": "3a86549b",
   "metadata": {},
   "source": [
    "### User defined functions"
   ]
  },
  {
   "cell_type": "code",
   "execution_count": 1457,
   "id": "05e905f0",
   "metadata": {},
   "outputs": [
    {
     "data": {
      "text/html": [
       "<pre class=\"language-APL\">i│   one     two  three\n",
       "─│──────────────────────\n",
       "a│0.344   0.528       ·\n",
       "b│0.0715  0.0867  0.741\n",
       "c│0.475░░░0.233░░░0.204░\n",
       "d│     ·  0.602   0.72\n",
       "</pre>"
      ]
     },
     "execution_count": 1457,
     "metadata": {},
     "output_type": "execute_result"
    },
    {
     "data": {
      "text/html": [
       "<pre class=\"language-APL\">i│ one   two  three\n",
       "─│──────────────────\n",
       "a│5.34  5.53      ·\n",
       "b│5.07  5.09   5.74\n",
       "c│5.47░░5.23░░░5.2░░\n",
       "d│   ·  5.6    5.72\n",
       "</pre>"
      ]
     },
     "execution_count": 1457,
     "metadata": {},
     "output_type": "execute_result"
    },
    {
     "data": {
      "text/html": [
       "<pre class=\"language-APL\">i│   one     two  three\n",
       "─│──────────────────────\n",
       "a│0.344   0.528       ·\n",
       "b│0.0715  0.0867  0.741\n",
       "c│0.475░░░0.233░░░0.204░\n",
       "d│     ·  0.602   0.72\n",
       "</pre>"
      ]
     },
     "execution_count": 1457,
     "metadata": {},
     "output_type": "execute_result"
    }
   ],
   "source": [
    "nan←⊂⍬\n",
    "isnan←{0=2|⎕DR¨{0::⍵ ⋄ 0::⍵[] ⋄ ⍵[;]}⍵}\n",
    "⊢da←nan@isnan data.at df.columns⊢df\n",
    "5+data.at da.columns⊢da\n",
    "(⊂⍬)@isnan data.at df.columns⊢df"
   ]
  },
  {
   "cell_type": "markdown",
   "id": "fea1c1e8",
   "metadata": {},
   "source": [
    "## Merge"
   ]
  },
  {
   "cell_type": "markdown",
   "id": "5bd25dff",
   "metadata": {},
   "source": [
    "## Grouping\n",
    "\n",
    "## Reshaping\n",
    "\n",
    "## Time series\n",
    "\n",
    "## Categoricals\n",
    "\n",
    "## Plotting\n",
    "\n",
    "## Importing and exporting data\n",
    "\n",
    "## Gotchas"
   ]
  },
  {
   "cell_type": "code",
   "execution_count": null,
   "id": "ea3c4e67",
   "metadata": {},
   "outputs": [],
   "source": []
  },
  {
   "cell_type": "markdown",
   "id": "4cf10afd",
   "metadata": {},
   "source": [
    "# Pandas getting started tutorials\n",
    "\n",
    "https://pandas.pydata.org/docs/getting_started/intro_tutorials/\n",
    "\n",
    "## What kind of data does pandas handle?\n",
    "\n",
    "I want to store passenger data of the Titanic. For a number of passengers, I know the name (characters), age (integers) and sex (male/female) data."
   ]
  },
  {
   "cell_type": "code",
   "execution_count": 896,
   "id": "74fe2941",
   "metadata": {},
   "outputs": [
    {
     "data": {
      "text/html": [
       "<pre class=\"language-APL\"> Name                      Age  Sex\n",
       "───────────────────────────────────────\n",
       " Braund, Mr. Owen Harris    22  male\n",
       " Allen, Mr. William Henry   35\n",
       "░Bonnell,░Miss.░Elizabeth░░░58░░female░\n",
       "</pre>"
      ]
     },
     "execution_count": 896,
     "metadata": {},
     "output_type": "execute_result"
    }
   ],
   "source": [
    "name ←⊂'Braund, Mr. Owen Harris'\n",
    "name,←⊂'Allen, Mr. William Henry'\n",
    "name,←⊂'Bonnell, Miss. Elizabeth'\n",
    "age←22 35 58\n",
    "sex←'male' 'male' 'female'\n",
    "⊢df←'Name' 'Age' 'Sex'data.frame name age sex"
   ]
  },
  {
   "cell_type": "code",
   "execution_count": 897,
   "id": "692889a7",
   "metadata": {},
   "outputs": [
    {
     "data": {
      "text/html": [
       "<pre class=\"language-APL\"> Age\n",
       "────\n",
       "  22\n",
       "  35\n",
       "  58\n",
       "</pre>"
      ]
     },
     "execution_count": 897,
     "metadata": {},
     "output_type": "execute_result"
    }
   ],
   "source": [
    "df[⊂'Age']"
   ]
  },
  {
   "cell_type": "code",
   "execution_count": 898,
   "id": "c728160f",
   "metadata": {},
   "outputs": [
    {
     "data": {
      "text/html": [
       "<pre class=\"language-APL\"> Age\n",
       "────\n",
       "  22\n",
       "  35\n",
       "  58\n",
       "</pre>"
      ]
     },
     "execution_count": 898,
     "metadata": {},
     "output_type": "execute_result"
    }
   ],
   "source": [
    "⊢ages←'Age'data.series 22 35 58"
   ]
  },
  {
   "cell_type": "code",
   "execution_count": 899,
   "id": "036e4eaa",
   "metadata": {},
   "outputs": [
    {
     "data": {
      "text/html": [
       "<pre class=\"language-APL\">58\n",
       "</pre>"
      ]
     },
     "execution_count": 899,
     "metadata": {},
     "output_type": "execute_result"
    },
    {
     "data": {
      "text/html": [
       "<pre class=\"language-APL\">58\n",
       "</pre>"
      ]
     },
     "execution_count": 899,
     "metadata": {},
     "output_type": "execute_result"
    }
   ],
   "source": [
    "⌈/df[;⊂'Age']\n",
    "⌈/ages[]"
   ]
  },
  {
   "cell_type": "code",
   "execution_count": 900,
   "id": "921e662c",
   "metadata": {},
   "outputs": [],
   "source": [
    "⍝ TODO\n",
    "⍝ df.describe"
   ]
  },
  {
   "cell_type": "markdown",
   "id": "e3067e8f",
   "metadata": {},
   "source": [
    "## How do I read and write tabular data?"
   ]
  },
  {
   "cell_type": "code",
   "execution_count": 901,
   "id": "01fb1e84",
   "metadata": {},
   "outputs": [],
   "source": [
    "titanic←data.frame'titanic.csv'"
   ]
  },
  {
   "cell_type": "code",
   "execution_count": 902,
   "id": "970fe208",
   "metadata": {},
   "outputs": [
    {
     "data": {
      "text/html": [
       "<pre class=\"language-APL\"> PassengerId  Survived  Pclass  Name                                                 Sex     Age  SibSp\n",
       "────────────────────────────────────────────────────────────────────────────────────────────────────────\n",
       "           1         0       3  Braund, Mr. Owen Harris                              male     22      1\n",
       "           2         1       1  Cumings, Mrs. John Bradley (Florence Briggs Thayer)  female   38\n",
       "░░░░░░░░░░░3░░░░░░░░░░░░░░░░░3░░Heikkinen,░Miss░Laina░░░░░░░░░░░░░░░░░░░░░░░░░░░░░░░░░░░░░░░░░26░░░░░░0░\n",
       "           4                 1  Futrelle, Mrs. Jacques Heath (Lily May Peel)                  35      1\n",
       "           5         0       3  Allen, Mr. William Henry                             male             0\n",
       "░░░░░░░░░░░6░░░░░░░░░░░░░░░░░░░░Moran,░Mr.░James░░░░░░░░░░░░░░░░░░░░░░░░░░░░░░░░░░░░░░░░░░░░░░░░░░░░░░░░\n",
       "           7                 1  McCarthy, Mr. Timothy J                                       54\n",
       "</pre>"
      ]
     },
     "execution_count": 902,
     "metadata": {},
     "output_type": "execute_result"
    }
   ],
   "source": [
    "head 7↑titanic[]"
   ]
  },
  {
   "cell_type": "code",
   "execution_count": 903,
   "id": "d85512ef",
   "metadata": {},
   "outputs": [
    {
     "data": {
      "text/html": [
       "<pre class=\"language-APL\"> PassengerId  Survived  Pclass  Name                                                 Sex     Age  SibSp\n",
       "────────────────────────────────────────────────────────────────────────────────────────────────────────\n",
       "           1         0       3  Braund, Mr. Owen Harris                              male     22      1\n",
       "           2         1       1  Cumings, Mrs. John Bradley (Florence Briggs Thayer)  female   38\n",
       "░░░░░░░░░░░3░░░░░░░░░░░░░░░░░3░░Heikkinen,░Miss░Laina░░░░░░░░░░░░░░░░░░░░░░░░░░░░░░░░░░░░░░░░░26░░░░░░0░\n",
       "           4                 1  Futrelle, Mrs. Jacques Heath (Lily May Peel)                  35      1\n",
       "           5         0       3  Allen, Mr. William Henry                             male             0\n",
       "░░░░░░░░░░░6░░░░░░░░░░░░░░░░░░░░Moran,░Mr.░James░░░░░░░░░░░░░░░░░░░░░░░░░░░░░░░░░░░░░░░░░░░░░░░░░░░░░░░░\n",
       "           7                 1  McCarthy, Mr. Timothy J                                       54\n",
       "</pre>"
      ]
     },
     "execution_count": 903,
     "metadata": {},
     "output_type": "execute_result"
    }
   ],
   "source": [
    "7↑data.at⊢7↑titanic[] ⍝ first 7 rows of first 7 columns"
   ]
  },
  {
   "cell_type": "code",
   "execution_count": 904,
   "id": "37a32862",
   "metadata": {},
   "outputs": [
    {
     "data": {
      "text/html": [
       "<pre class=\"language-APL\"> Age  SibSp  Parch           Ticket   Fare  Cabin  Embarked\n",
       "────────────────────────────────────────────────────────────\n",
       "  25      0      0  SOTON/OQ 392076   7.05         S\n",
       "  39             5           382652  29.1          Q\n",
       "░░27░░░░░░░░░░░░░0░░░░░░░░░░░211536░░13░░░░░░░░░░░░S░░░░░░░░\n",
       "  19                         112053  30     B42\n",
       "          1      2       W./C. 6607  23.4\n",
       "░░26░░░░░░0░░░░░░0░░░░░░░░░░░111369░░30░░░░░C148░░░C░░░░░░░░\n",
       "  32                         370376   7.75         Q\n",
       "</pre>"
      ]
     },
     "execution_count": 904,
     "metadata": {},
     "output_type": "execute_result"
    }
   ],
   "source": [
    "tail ¯7↑titanic[]"
   ]
  },
  {
   "cell_type": "code",
   "execution_count": 905,
   "id": "c84e78c1",
   "metadata": {},
   "outputs": [
    {
     "data": {
      "text/html": [
       "<pre class=\"language-APL\"> Age  SibSp  Parch           Ticket   Fare  Cabin  Embarked\n",
       "────────────────────────────────────────────────────────────\n",
       "  25      0      0  SOTON/OQ 392076   7.05         S\n",
       "  39             5           382652  29.1          Q\n",
       "░░27░░░░░░░░░░░░░0░░░░░░░░░░░211536░░13░░░░░░░░░░░░S░░░░░░░░\n",
       "  19                         112053  30     B42\n",
       "          1      2       W./C. 6607  23.4\n",
       "░░26░░░░░░0░░░░░░0░░░░░░░░░░░111369░░30░░░░░C148░░░C░░░░░░░░\n",
       "  32                         370376   7.75         Q\n",
       "</pre>"
      ]
     },
     "execution_count": 905,
     "metadata": {},
     "output_type": "execute_result"
    }
   ],
   "source": [
    "¯7↑data.at⊢¯7↑titanic[] ⍝ last 7 rows of last 7 columns"
   ]
  },
  {
   "cell_type": "code",
   "execution_count": 906,
   "id": "144ce799",
   "metadata": {},
   "outputs": [
    {
     "data": {
      "text/html": [
       "<pre class=\"language-APL\">163 11 83 326 326 326 83 83 326 645 326 326\n",
       "</pre>"
      ]
     },
     "execution_count": 906,
     "metadata": {},
     "output_type": "execute_result"
    }
   ],
   "source": [
    "⎕DR¨titanic[].values"
   ]
  },
  {
   "cell_type": "code",
   "execution_count": 907,
   "id": "83fc0115",
   "metadata": {},
   "outputs": [],
   "source": [
    "⍝ TODO\n",
    "⍝ from_excel\n",
    "⍝ to_excel"
   ]
  },
  {
   "cell_type": "code",
   "execution_count": 908,
   "id": "91bbc69f",
   "metadata": {},
   "outputs": [],
   "source": [
    "⍝ TODO\n",
    "⍝ df.info()"
   ]
  },
  {
   "cell_type": "markdown",
   "id": "fb156f05",
   "metadata": {},
   "source": [
    "## How do I select a subset of a DataFrame?"
   ]
  },
  {
   "cell_type": "code",
   "execution_count": 909,
   "id": "16cf0e79",
   "metadata": {},
   "outputs": [
    {
     "data": {
      "text/html": [
       "<pre class=\"language-APL\"> Age\n",
       "─────\n",
       "  22\n",
       "  38\n",
       "░░26░\n",
       "  35\n",
       "\n",
       "░░░░░\n",
       "  54\n",
       "   2\n",
       "░░27░\n",
       "  14\n",
       "</pre>"
      ]
     },
     "execution_count": 909,
     "metadata": {},
     "output_type": "execute_result"
    }
   ],
   "source": [
    "head titanic.Col⊂'Age'"
   ]
  },
  {
   "cell_type": "code",
   "execution_count": 910,
   "id": "0e227ee1",
   "metadata": {},
   "outputs": [
    {
     "data": {
      "text/html": [
       "<pre class=\"language-APL\">891\n",
       "</pre>"
      ]
     },
     "execution_count": 910,
     "metadata": {},
     "output_type": "execute_result"
    }
   ],
   "source": [
    "⍴titanic[⊂'Age'][]"
   ]
  },
  {
   "cell_type": "code",
   "execution_count": 911,
   "id": "be65103b",
   "metadata": {},
   "outputs": [
    {
     "data": {
      "text/html": [
       "<pre class=\"language-APL\"> Age  Sex\n",
       "─────────────\n",
       "  22  male\n",
       "  38  female\n",
       "░░26░░░░░░░░░\n",
       "  35\n",
       "      male\n",
       "░░░░░░░░░░░░░\n",
       "  54\n",
       "   2\n",
       "░░27░░female░\n",
       "  14\n",
       "</pre>"
      ]
     },
     "execution_count": 911,
     "metadata": {},
     "output_type": "execute_result"
    }
   ],
   "source": [
    "head age_sex←titanic.Col'Age' 'Sex'"
   ]
  },
  {
   "cell_type": "code",
   "execution_count": 912,
   "id": "2a8797c1",
   "metadata": {},
   "outputs": [
    {
     "data": {
      "text/html": [
       "<pre class=\"language-APL\"> PassengerId  Survived  Pclass  Name                                                 Sex     Age  SibSp\n",
       "────────────────────────────────────────────────────────────────────────────────────────────────────────\n",
       "           1         0       3  Braund, Mr. Owen Harris                              male     22      1\n",
       "           2         1       1  Cumings, Mrs. John Bradley (Florence Briggs Thayer)  female   38\n",
       "░░░░░░░░░░░3░░░░░░░░░░░░░░░░░3░░Heikkinen,░Miss░Laina░░░░░░░░░░░░░░░░░░░░░░░░░░░░░░░░░░░░░░░░░26░░░░░░0░\n",
       "           4                 1  Futrelle, Mrs. Jacques Heath (Lily May Peel)                  35      1\n",
       "           5         0       3  Allen, Mr. William Henry                             male             0\n",
       "░░░░░░░░░░░6░░░░░░░░░░░░░░░░░░░░Moran,░Mr.░James░░░░░░░░░░░░░░░░░░░░░░░░░░░░░░░░░░░░░░░░░░░░░░░0░░░░░░░░\n",
       "           7                 1  McCarthy, Mr. Timothy J                                       54\n",
       "</pre>"
      ]
     },
     "execution_count": 912,
     "metadata": {},
     "output_type": "execute_result"
    }
   ],
   "source": [
    "t←0⍨@(80=⎕DR¨)data.at(⊂'Age')⊢titanic\n",
    "above_35←(t[;⊂'Age']>35)⌿data.at⊢t\n",
    "head 7↑t[]"
   ]
  },
  {
   "cell_type": "code",
   "execution_count": 913,
   "id": "305bf611",
   "metadata": {},
   "outputs": [
    {
     "data": {
      "text/html": [
       "<pre class=\"language-APL\">217 12\n",
       "</pre>"
      ]
     },
     "execution_count": 913,
     "metadata": {},
     "output_type": "execute_result"
    }
   ],
   "source": [
    "⍴above_35[;]"
   ]
  },
  {
   "cell_type": "code",
   "execution_count": 914,
   "id": "ec380669",
   "metadata": {},
   "outputs": [
    {
     "data": {
      "text/html": [
       "<pre class=\"language-APL\"> PassengerId  Survived  Pclass  Name\n",
       "─────────────────────────────────────────────────────────\n",
       "           1         0       3  Braund, Mr. Owen Harris\n",
       "           3         1          Heikkinen, Miss Laina\n",
       "░░░░░░░░░░░5░░░░░░░░░0░░░░░░░░░░Allen,░Mr.░William░Henry░\n",
       "           6                    Moran, Mr. James\n",
       "</pre>"
      ]
     },
     "execution_count": 914,
     "metadata": {},
     "output_type": "execute_result"
    }
   ],
   "source": [
    "class_23←(t[;⊂'Pclass']∊2 3)⌿data.at⊢t\n",
    "head 4↑class_23[]"
   ]
  },
  {
   "cell_type": "code",
   "execution_count": 915,
   "id": "27788820",
   "metadata": {},
   "outputs": [
    {
     "data": {
      "text/html": [
       "<pre class=\"language-APL\"> PassengerId  Survived  Pclass  Name\n",
       "─────────────────────────────────────────────────────────\n",
       "           1         0       3  Braund, Mr. Owen Harris\n",
       "           3         1          Heikkinen, Miss Laina\n",
       "░░░░░░░░░░░5░░░░░░░░░0░░░░░░░░░░Allen,░Mr.░William░Henry░\n",
       "           6                    Moran, Mr. James\n",
       "</pre>"
      ]
     },
     "execution_count": 915,
     "metadata": {},
     "output_type": "execute_result"
    }
   ],
   "source": [
    "class_23←((t[;⊂'Pclass']=2)∨t[;⊂'Pclass']=3)⌿data.at⊢t\n",
    "head 4↑class_23[]"
   ]
  },
  {
   "cell_type": "code",
   "execution_count": 916,
   "id": "fbe10bfc",
   "metadata": {},
   "outputs": [
    {
     "data": {
      "text/html": [
       "<pre class=\"language-APL\"> PassengerId  Survived  Pclass  Name                                            Sex     Age  SibSp\n",
       "───────────────────────────────────────────────────────────────────────────────────────────────────\n",
       "           6         0       3  Moran, Mr. James                                male             0\n",
       "          18         1       2  Williams, Mr. Charles Eugene\n",
       "░░░░░░░░░░20░░░░░░░░░░░░░░░░░3░░Masselmani,░Mrs.░Fatima░░░░░░░░░░░░░░░░░░░░░░░░░female░░░░░░░░░░░░░\n",
       "          27         0          Emir, Mr. Farred Chehab                         male\n",
       "          29         1          O'Dwyer, Miss Ellen \"Nellie\"                    female\n",
       "░░░░░░░░░░30░░░░░░░░░0░░░░░░░░░░Todoroff,░Mr.░Lalio░░░░░░░░░░░░░░░░░░░░░░░░░░░░░male░░░░░░░░░░░░░░░\n",
       "          32         1       1  Spencer, Mrs. William Augustus (Marie Eugenie)  female           1\n",
       "</pre>"
      ]
     },
     "execution_count": 916,
     "metadata": {},
     "output_type": "execute_result"
    }
   ],
   "source": [
    "age_no_na←(~2|⎕DR¨titanic[;⊂'Age'])⌿data.at⊢titanic\n",
    "head 7↑age_no_na[]"
   ]
  },
  {
   "cell_type": "code",
   "execution_count": 917,
   "id": "8890159d",
   "metadata": {},
   "outputs": [
    {
     "data": {
      "text/html": [
       "<pre class=\"language-APL\">217\n",
       "</pre>"
      ]
     },
     "execution_count": 917,
     "metadata": {},
     "output_type": "execute_result"
    },
    {
     "data": {
      "text/html": [
       "<pre class=\"language-APL\">Cumings, Mrs. John Bradley (Florence Briggs Thayer)      \n",
       "McCarthy, Mr. Timothy J                                  \n",
       "Bonnell, Miss Elizabeth                                  \n",
       "Andersson, Mr. Anders Johan                              \n",
       "Hewlett, Mrs. (Mary D Kingcome)                          \n",
       "Asplund, Mrs. Carl Oscar (Selma Augusta Emilia Johansson)\n",
       "Uruchurtu, Don. Manuel E                                 \n",
       "Wheadon, Mr. Edward H                                    \n",
       "Holverson, Mr. Alexander Oskar                           \n",
       "Ahlin, Mrs. Johan (Johanna Persdotter Larsson)           \n",
       "</pre>"
      ]
     },
     "execution_count": 917,
     "metadata": {},
     "output_type": "execute_result"
    }
   ],
   "source": [
    "⍝ adult_names = titanic.loc[titanic[\"Age\"] > 35, \"Name\"]\n",
    "≢i←⍸35<t[;⊂'Age']\n",
    "↑10↑adult_names←t[i;⊂'Name']\n",
    "⍝ TODO\n",
    "⍝↑10↑adult_names←t[⍸35<t[;⊂'Age'];⊂'Name']"
   ]
  },
  {
   "cell_type": "code",
   "execution_count": 918,
   "id": "3162eed0",
   "metadata": {},
   "outputs": [
    {
     "data": {
      "text/html": [
       "<pre class=\"language-APL\"> Survived  Pclass  Name\n",
       "───────────────────────────────────────────────────────────────────────────\n",
       "        1       3  Johnson, Mrs. Oscar W (Elisabeth Vilhelmina Berg)\n",
       "                2  Nasser, Mrs. Nicholas (Adele Achem)\n",
       "░░░░░░░░░░░░░░░░3░░Sandstrom,░Miss░Marguerite░Rut░░░░░░░░░░░░░░░░░░░░░░░░░░\n",
       "                1  Bonnell, Miss Elizabeth\n",
       "        0       3  Saundercock, Mr. William Henry\n",
       "░░░░░░░░░░░░░░░░░░░Andersson,░Mr.░Anders░Johan░░░░░░░░░░░░░░░░░░░░░░░░░░░░░\n",
       "                   Vestrom, Miss Hulda Amanda Adolfina\n",
       "        1       2  Hewlett, Mrs. (Mary D Kingcome)\n",
       "░░░░░░░░0░░░░░░░3░░Rice,░Master░Eugene░░░░░░░░░░░░░░░░░░░░░░░░░░░░░░░░░░░░░\n",
       "        1       2  Williams, Mr. Charles Eugene\n",
       "        0       3  Vander Planke, Mrs. Julius (Emelia Maria Vandemoortele)\n",
       "░░░░░░░░1░░░░░░░░░░Masselmani,░Mrs.░Fatima░░░░░░░░░░░░░░░░░░░░░░░░░░░░░░░░░\n",
       "        0       2  Fynney, Mr. Joseph J\n",
       "        1          Beesley, Mr. Lawrence\n",
       "░░░░░░░░░░░░░░░░3░░McGowan,░Miss░Anna░\"Annie\"░░░░░░░░░░░░░░░░░░░░░░░░░░░░░░\n",
       "                1  Sloper, Mr. William Thompson\n",
       "</pre>"
      ]
     },
     "execution_count": 918,
     "metadata": {},
     "output_type": "execute_result"
    },
    {
     "data": {
      "text/html": [
       "<pre class=\"language-APL\"> Survived  Pclass  Name\n",
       "───────────────────────────────────────────────────────────────────────────\n",
       "        1       3  Johnson, Mrs. Oscar W (Elisabeth Vilhelmina Berg)\n",
       "                2  Nasser, Mrs. Nicholas (Adele Achem)\n",
       "░░░░░░░░░░░░░░░░3░░Sandstrom,░Miss░Marguerite░Rut░░░░░░░░░░░░░░░░░░░░░░░░░░\n",
       "                1  Bonnell, Miss Elizabeth\n",
       "        0       3  Saundercock, Mr. William Henry\n",
       "░░░░░░░░░░░░░░░░░░░Andersson,░Mr.░Anders░Johan░░░░░░░░░░░░░░░░░░░░░░░░░░░░░\n",
       "                   Vestrom, Miss Hulda Amanda Adolfina\n",
       "        1       2  Hewlett, Mrs. (Mary D Kingcome)\n",
       "░░░░░░░░0░░░░░░░3░░Rice,░Master░Eugene░░░░░░░░░░░░░░░░░░░░░░░░░░░░░░░░░░░░░\n",
       "        1       2  Williams, Mr. Charles Eugene\n",
       "        0       3  Vander Planke, Mrs. Julius (Emelia Maria Vandemoortele)\n",
       "░░░░░░░░1░░░░░░░░░░Masselmani,░Mrs.░Fatima░░░░░░░░░░░░░░░░░░░░░░░░░░░░░░░░░\n",
       "        0       2  Fynney, Mr. Joseph J\n",
       "        1          Beesley, Mr. Lawrence\n",
       "░░░░░░░░░░░░░░░░3░░McGowan,░Miss░Anna░\"Annie\"░░░░░░░░░░░░░░░░░░░░░░░░░░░░░░\n",
       "                1  Sloper, Mr. William Thompson\n",
       "</pre>"
      ]
     },
     "execution_count": 918,
     "metadata": {},
     "output_type": "execute_result"
    }
   ],
   "source": [
    "⍝ titanic.iloc[9:25, 2:5]\n",
    "To←{(⍺-⎕IO)+⍳⍵-⍺}\n",
    "titanic.labels[2 To 5] data.frame titanic.values[9 To 25;2 To 5]\n",
    "(9 To 25){⍵[⍺]}data.at⊢titanic[][2 To 5]"
   ]
  },
  {
   "cell_type": "markdown",
   "id": "613a28c2",
   "metadata": {},
   "source": [
    "## How do I create plots?"
   ]
  },
  {
   "cell_type": "code",
   "execution_count": 919,
   "id": "520acc9d",
   "metadata": {},
   "outputs": [],
   "source": [
    "⍝ TODO (EWC-ApexCharts)\n",
    "⍝ Run-chart with date axis\n",
    "⍝ Scatter plot\n",
    "⍝ Box plot\n",
    "⍝ Subplots"
   ]
  },
  {
   "cell_type": "markdown",
   "id": "c41b7e89",
   "metadata": {},
   "source": [
    "## How to create new columns derived from existing columns"
   ]
  },
  {
   "cell_type": "code",
   "execution_count": 920,
   "id": "5b7618f8",
   "metadata": {},
   "outputs": [
    {
     "data": {
      "text/html": [
       "<pre class=\"language-APL\"> datetime             station_antwerp  station_paris  station_london\n",
       "─────────────────────────────────────────────────────────────────────\n",
       " 2019-05-07 02:00:00                                              23\n",
       " 2019-05-07 03:00:00             50.5           25                19\n",
       "░2019-05-07░04:00:00░░░░░░░░░░░░░45░░░░░░░░░░░░░27.7░░░░░░░░░░░░░░░░░\n",
       " 2019-05-07 05:00:00                            50.4              16\n",
       " 2019-05-07 06:00:00                            61.9\n",
       "░2019-05-07░07:00:00░░░░░░░░░░░░░░░░░░░░░░░░░░░░72.4░░░░░░░░░░░░░░26░\n",
       " 2019-05-07 08:00:00                            77.7              32\n",
       " 2019-05-07 09:00:00                            67.9\n",
       "░2019-05-07░10:00:00░░░░░░░░░░░░░░░░░░░░░░░░░░░░56░░░░░░░░░░░░░░░░28░\n",
       " 2019-05-07 11:00:00                            34.5              21\n",
       "</pre>"
      ]
     },
     "execution_count": 920,
     "metadata": {},
     "output_type": "execute_result"
    }
   ],
   "source": [
    "head air_quality←data.frame'air_quality_no2.csv'"
   ]
  },
  {
   "cell_type": "code",
   "execution_count": 921,
   "id": "aec6f9be",
   "metadata": {},
   "outputs": [
    {
     "data": {
      "text/html": [
       "<pre class=\"language-APL\"> datetime             station_antwerp  station_paris  station_london  london_mg_per_cubic\n",
       "──────────────────────────────────────────────────────────────────────────────────────────\n",
       " 2019-05-07 02:00:00                                              23                 43.3\n",
       " 2019-05-07 03:00:00             50.5           25                19                 35.8\n",
       "░2019-05-07░04:00:00░░░░░░░░░░░░░45░░░░░░░░░░░░░27.7░░░░░░░░░░░░░░░░░░░░░░░░░░░░░░░░░░░░░░\n",
       " 2019-05-07 05:00:00                            50.4              16                 30.1\n",
       " 2019-05-07 06:00:00                            61.9                                    ·\n",
       "░2019-05-07░07:00:00░░░░░░░░░░░░░░░░░░░░░░░░░░░░72.4░░░░░░░░░░░░░░26░░░░░░░░░░░░░░░░░48.9░\n",
       " 2019-05-07 08:00:00                            77.7              32                 60.2\n",
       " 2019-05-07 09:00:00                            67.9\n",
       "░2019-05-07░10:00:00░░░░░░░░░░░░░░░░░░░░░░░░░░░░56░░░░░░░░░░░░░░░░28░░░░░░░░░░░░░░░░░52.7░\n",
       " 2019-05-07 11:00:00                            34.5              21                 39.5\n",
       "</pre>"
      ]
     },
     "execution_count": 921,
     "metadata": {},
     "output_type": "execute_result"
    }
   ],
   "source": [
    "air_quality.series,←'london_mg_per_cubic'data.series 1.882×air_quality[;⊂'station_london']\n",
    "head air_quality"
   ]
  },
  {
   "cell_type": "code",
   "execution_count": 922,
   "id": "c36833d9",
   "metadata": {},
   "outputs": [
    {
     "data": {
      "text/html": [
       "<pre class=\"language-APL\"> datetime             station_antwerp  station_paris  station_london  london_mg_per_cubic  ratio_paris_antwerp\n",
       "───────────────────────────────────────────────────────────────────────────────────────────────────────────────\n",
       " 2019-05-07 02:00:00                                              23                 43.3                    ·\n",
       " 2019-05-07 03:00:00             50.5           25                19                 35.8                0.495\n",
       "░2019-05-07░04:00:00░░░░░░░░░░░░░45░░░░░░░░░░░░░27.7░░░░░░░░░░░░░░░░░░░░░░░░░░░░░░░░░░░░░░░░░░░░░░░░░░░░░0.616░\n",
       " 2019-05-07 05:00:00                            50.4              16                 30.1                    ·\n",
       " 2019-05-07 06:00:00                            61.9                                    ·\n",
       "░2019-05-07░07:00:00░░░░░░░░░░░░░░░░░░░░░░░░░░░░72.4░░░░░░░░░░░░░░26░░░░░░░░░░░░░░░░░48.9░░░░░░░░░░░░░░░░░░░░░░\n",
       " 2019-05-07 08:00:00                            77.7              32                 60.2\n",
       " 2019-05-07 09:00:00                            67.9\n",
       "░2019-05-07░10:00:00░░░░░░░░░░░░░░░░░░░░░░░░░░░░56░░░░░░░░░░░░░░░░28░░░░░░░░░░░░░░░░░52.7░░░░░░░░░░░░░░░░░░░░░░\n",
       " 2019-05-07 11:00:00                            34.5              21                 39.5\n",
       "</pre>"
      ]
     },
     "execution_count": 922,
     "metadata": {},
     "output_type": "execute_result"
    }
   ],
   "source": [
    "v←air_quality[;⊂'station_paris']÷air_quality[;⊂'station_antwerp']\n",
    "air_quality.series,←'ratio_paris_antwerp'data.series v\n",
    "head air_quality"
   ]
  },
  {
   "cell_type": "code",
   "execution_count": 923,
   "id": "481525fe",
   "metadata": {},
   "outputs": [
    {
     "data": {
      "text/html": [
       "<pre class=\"language-APL\"> datetime             BETR801  FR04014  London Westminster  london_mg_per_cubic  ratio_paris_antwerp\n",
       "─────────────────────────────────────────────────────────────────────────────────────────────────────\n",
       " 2019-05-07 02:00:00                                    23                 43.3                    ·\n",
       " 2019-05-07 03:00:00     50.5     25                    19                 35.8                0.495\n",
       "░2019-05-07░04:00:00░░░░░45░░░░░░░27.7░░░░░░░░░░░░░░░░░░░░░░░░░░░░░░░░░░░░░░░░░░░░░░░░░░░░░░░░░0.616░\n",
       " 2019-05-07 05:00:00              50.4                  16                 30.1                    ·\n",
       " 2019-05-07 06:00:00              61.9                                        ·\n",
       "░2019-05-07░07:00:00░░░░░░░░░░░░░░72.4░░░░░░░░░░░░░░░░░░26░░░░░░░░░░░░░░░░░48.9░░░░░░░░░░░░░░░░░░░░░░\n",
       " 2019-05-07 08:00:00              77.7                  32                 60.2\n",
       " 2019-05-07 09:00:00              67.9\n",
       "░2019-05-07░10:00:00░░░░░░░░░░░░░░56░░░░░░░░░░░░░░░░░░░░28░░░░░░░░░░░░░░░░░52.7░░░░░░░░░░░░░░░░░░░░░░\n",
       " 2019-05-07 11:00:00              34.5                  21                 39.5\n",
       "</pre>"
      ]
     },
     "execution_count": 923,
     "metadata": {},
     "output_type": "execute_result"
    }
   ],
   "source": [
    "air_quality_renamed←data.frame air_quality\n",
    "air_quality_renamed[(⊂'station_'),¨'antwerp' 'paris' 'london'].label←'BETR801' 'FR04014' 'London Westminster'\n",
    "head air_quality_renamed"
   ]
  },
  {
   "cell_type": "code",
   "execution_count": 924,
   "id": "a3422461",
   "metadata": {},
   "outputs": [
    {
     "data": {
      "text/html": [
       "<pre class=\"language-APL\"> datetime             betr801  fr04014  london westminster  london_mg_per_cubic  ratio_paris_antwerp\n",
       "─────────────────────────────────────────────────────────────────────────────────────────────────────\n",
       " 2019-05-07 02:00:00                                    23                 43.3                    ·\n",
       " 2019-05-07 03:00:00     50.5     25                    19                 35.8                0.495\n",
       "░2019-05-07░04:00:00░░░░░45░░░░░░░27.7░░░░░░░░░░░░░░░░░░░░░░░░░░░░░░░░░░░░░░░░░░░░░░░░░░░░░░░░░0.616░\n",
       " 2019-05-07 05:00:00              50.4                  16                 30.1                    ·\n",
       " 2019-05-07 06:00:00              61.9                                        ·\n",
       "░2019-05-07░07:00:00░░░░░░░░░░░░░░72.4░░░░░░░░░░░░░░░░░░26░░░░░░░░░░░░░░░░░48.9░░░░░░░░░░░░░░░░░░░░░░\n",
       " 2019-05-07 08:00:00              77.7                  32                 60.2\n",
       " 2019-05-07 09:00:00              67.9\n",
       "░2019-05-07░10:00:00░░░░░░░░░░░░░░56░░░░░░░░░░░░░░░░░░░░28░░░░░░░░░░░░░░░░░52.7░░░░░░░░░░░░░░░░░░░░░░\n",
       " 2019-05-07 11:00:00              34.5                  21                 39.5\n",
       "</pre>"
      ]
     },
     "execution_count": 924,
     "metadata": {},
     "output_type": "execute_result"
    }
   ],
   "source": [
    "air_quality_renamed.labels⎕C⍨←¯1\n",
    "head air_quality_renamed"
   ]
  },
  {
   "cell_type": "markdown",
   "id": "019ee3b6",
   "metadata": {},
   "source": [
    "## How to calculate summary statistics"
   ]
  },
  {
   "cell_type": "code",
   "execution_count": 925,
   "id": "0d757fcc",
   "metadata": {},
   "outputs": [],
   "source": [
    "⍝ TODO: get stats functions from tamstat package\n",
    "mean←+⌿÷1⌈⊣∘≢\n",
    "median←2÷⍨1⊥⊢⌷⍨∘⊂⍋⌷⍨∘⊂∘⌈2÷⍨0 1+≢"
   ]
  },
  {
   "cell_type": "code",
   "execution_count": 926,
   "id": "cfe9833c",
   "metadata": {},
   "outputs": [
    {
     "data": {
      "text/html": [
       "<pre class=\"language-APL\">23.8\n",
       "</pre>"
      ]
     },
     "execution_count": 926,
     "metadata": {},
     "output_type": "execute_result"
    }
   ],
   "source": [
    "mean{(~data.nan⍵)/⍵}t[;⊂'Age']"
   ]
  },
  {
   "cell_type": "code",
   "execution_count": 927,
   "id": "c551aad9",
   "metadata": {},
   "outputs": [
    {
     "data": {
      "text/html": [
       "<pre class=\"language-APL\">24 14.5\n",
       "</pre>"
      ]
     },
     "execution_count": 927,
     "metadata": {},
     "output_type": "execute_result"
    }
   ],
   "source": [
    "{median(~data.nan⍵)/⍵}¨t['Age' 'Fare'].values"
   ]
  },
  {
   "cell_type": "code",
   "execution_count": 928,
   "id": "10851ff9",
   "metadata": {},
   "outputs": [],
   "source": [
    "⍝ TODO\n",
    "⍝ titanic[[\"Age\", \"Fare\"]].describe()"
   ]
  },
  {
   "cell_type": "code",
   "execution_count": 929,
   "id": "51f6afbb",
   "metadata": {},
   "outputs": [
    {
     "data": {
      "text/html": [
       "<pre class=\"language-APL\"> 0.42   0\n",
       "80    512\n",
       "28     14.5\n",
       "29.7   32.2\n",
       "</pre>"
      ]
     },
     "execution_count": 929,
     "metadata": {},
     "output_type": "execute_result"
    }
   ],
   "source": [
    "fn←'⌊/' '⌈/' 'median' 'mean' ⍝ TODO: skew\n",
    "fn∘.{(⍎⍺)⍵}{(~data.nan⍵)/⍵}¨titanic['Age' 'Fare'].values"
   ]
  },
  {
   "cell_type": "code",
   "execution_count": 930,
   "id": "1735f94f",
   "metadata": {},
   "outputs": [
    {
     "data": {
      "text/html": [
       "<pre class=\"language-APL\"> Sex      Age\n",
       "──────────────\n",
       " female  27.9\n",
       " male    30.7\n",
       "</pre>"
      ]
     },
     "execution_count": 930,
     "metadata": {},
     "output_type": "execute_result"
    }
   ],
   "source": [
    "{mean(,~data.nan⍵)⌿⍵}data.by(⊂'Sex')⊢titanic['Sex' 'Age']"
   ]
  },
  {
   "cell_type": "code",
   "execution_count": 931,
   "id": "d43e6adc",
   "metadata": {},
   "outputs": [],
   "source": [
    "⍝ TODO: numeric_only"
   ]
  },
  {
   "cell_type": "code",
   "execution_count": 932,
   "id": "bdeab5f8",
   "metadata": {},
   "outputs": [
    {
     "data": {
      "text/html": [
       "<pre class=\"language-APL\"> Sex      Age\n",
       "──────────────\n",
       " female  27.9\n",
       " male    30.7\n",
       "</pre>"
      ]
     },
     "execution_count": 932,
     "metadata": {},
     "output_type": "execute_result"
    }
   ],
   "source": [
    "{mean(,~data.nan⍵)⌿⍵}data.by(titanic[⊂'Sex'])⊢titanic[⊂'Age']"
   ]
  },
  {
   "cell_type": "code",
   "execution_count": 933,
   "id": "95481665",
   "metadata": {},
   "outputs": [
    {
     "data": {
      "text/html": [
       "<pre class=\"language-APL\"> Sex     Pclass   Fare\n",
       "───────────────────────\n",
       " female       1  106\n",
       "              2   22\n",
       "░░░░░░░░░░░░░░3░░░16.1░\n",
       " male         1   67.2\n",
       "              2   19.7\n",
       "░░░░░░░░░░░░░░3░░░12.7░\n",
       "</pre>"
      ]
     },
     "execution_count": 933,
     "metadata": {},
     "output_type": "execute_result"
    }
   ],
   "source": [
    "{mean(,~data.nan⍵)⌿⍵}data.by(titanic['Sex' 'Pclass'])⊢titanic[⊂'Fare']"
   ]
  },
  {
   "cell_type": "code",
   "execution_count": 934,
   "id": "6c9d28ca",
   "metadata": {},
   "outputs": [],
   "source": [
    "⍝ TODO: value_counts"
   ]
  },
  {
   "cell_type": "code",
   "execution_count": 935,
   "id": "3a717c2e",
   "metadata": {},
   "outputs": [
    {
     "data": {
      "text/html": [
       "<pre class=\"language-APL\"> Pclass  count\n",
       "───────────────\n",
       "      1    216\n",
       "      2    184\n",
       "░░░░░░3░░░░491░\n",
       "</pre>"
      ]
     },
     "execution_count": 935,
     "metadata": {},
     "output_type": "execute_result"
    }
   ],
   "source": [
    "(⊂'count')≢data.by(⊂'Pclass')⊢titanic['Pclass' 'Pclass']"
   ]
  },
  {
   "cell_type": "markdown",
   "id": "f437c109",
   "metadata": {},
   "source": [
    "## How to reshape the layout of tables"
   ]
  },
  {
   "cell_type": "code",
   "execution_count": 936,
   "id": "5c490e29",
   "metadata": {
    "scrolled": false
   },
   "outputs": [
    {
     "data": {
      "text/html": [
       "<pre class=\"language-APL\"> PassengerId  Survived  Pclass  Name                            Sex      Age  SibSp  Parch   Ticket    Fare  Cabin    Embarked\n",
       "───────────────────────────────────────────────────────────────────────────────────────────────────────────────────────────────\n",
       "         804         1       3  Thomas, Master Assad Alexander  male    0.42      0      1     2625    8.52           C\n",
       "         756                 2  Hamalainen, Master Viljo                0.67      1          250649   14.5            S\n",
       "░░░░░░░░░470░░░░░░░░░░░░░░░░░3░░Baclini,░Miss░Helene░Barbara░░░░female░░0.75░░░░░░2░░░░░░░░░░░░2666░░░19.3░░░░░░░░░░░░C░░░░░░░░\n",
       "         645                    Baclini, Miss Eugenie\n",
       "          79                 2  Caldwell, Master Alden Gates    male    0.83      0      2   248738   29              S\n",
       "░░░░░░░░░832░░░░░░░░░░░░░░░░░░░░Richards,░Master░George░Sibley░░░░░░░░░░░░░░░░░░░░1░░░░░░1░░░░29106░░░18.8░░░░░░░░░░░░░░░░░░░░░\n",
       "         306                 1  Allison, Master Hudson Trevor           0.92             2   113781  152     C22 C26\n",
       "         165         0       3  Panula, Master Eino Viljami             1         4      1  3101295   39.7\n",
       "░░░░░░░░░173░░░░░░░░░1░░░░░░░░░░Johnson,░Miss░Eleanor░Ileen░░░░░female░░░░░░░░░░░░1░░░░░░░░░░347742░░░11.1░░░░░░░░░░░░░░░░░░░░░\n",
       "         184                 2  Becker, Master Richard F        male              2          230136   39     F4\n",
       "</pre>"
      ]
     },
     "execution_count": 936,
     "metadata": {},
     "output_type": "execute_result"
    }
   ],
   "source": [
    "head(⊂'Age')⍋data.sort 9e9 data.(nan at(⊂'Age'))titanic ⍝ move nan to bottom (max)"
   ]
  },
  {
   "cell_type": "code",
   "execution_count": 937,
   "id": "0ab330e7",
   "metadata": {},
   "outputs": [
    {
     "data": {
      "text/html": [
       "<pre class=\"language-APL\"> PassengerId  Survived  Pclass  Name                              Sex      Age  SibSp  Parch      Ticket  Fare  Cabin  Embarked\n",
       "────────────────────────────────────────────────────────────────────────────────────────────────────────────────────────────────\n",
       "         852         0       3  Svensson, Mr. Johan               male    74        0      0      347060  7.78         S\n",
       "         117                    Connors, Mr. Patrick                      70.5                    370369  7.75         Q\n",
       "░░░░░░░░░281░░░░░░░░░░░░░░░░░░░░Duane,░Mr.░Frank░░░░░░░░░░░░░░░░░░░░░░░░░░65░░░░░░░░░░░░░░░░░░░░░░336439░░░░░░░░░░░░░░░░░░░░░░░░\n",
       "         484         1          Turkula, Mrs. (Hedwig)            female  63                        4134  9.59         S\n",
       "         327         0          Nysveen, Mr. Johan Hansen         male    61                      345364  6.24\n",
       "░░░░░░░░░░95░░░░░░░░░░░░░░░░░░░░Coxon,░Mr.░Daniel░░░░░░░░░░░░░░░░░░░░░░░░░59░░░░░░░░░░░░░░░░░░░░░░364500░░7.25░░░░░░░░░░░░░░░░░░\n",
       "         153                    Meo, Mr. Alfonzo                          55.5                A.5. 11206  8.05\n",
       "         223                    Green, Mr. George Henry                   51                       21440\n",
       "░░░░░░░░░407░░░░░░░░░░░░░░░░░░░░Widegren,░Mr.░Carl/Charles░Peter░░░░░░░░░░░░░░░░░░░░░░░░░░░░░░░░░░347064░░7.75░░░░░░░░░░░░░░░░░░\n",
       "         632                    Lundahl, Mr. Johan Svensson                                       347743  7.05\n",
       "</pre>"
      ]
     },
     "execution_count": 937,
     "metadata": {},
     "output_type": "execute_result"
    }
   ],
   "source": [
    "head('Pclass' 'Age')⍒data.sort 0 data.(nan at(⊂'Age'))titanic ⍝ move nan to bottom (min)"
   ]
  },
  {
   "cell_type": "markdown",
   "id": "59ce19a1",
   "metadata": {},
   "source": [
    "### Long to wide table format"
   ]
  },
  {
   "cell_type": "code",
   "execution_count": 938,
   "id": "f62605fc",
   "metadata": {},
   "outputs": [
    {
     "data": {
      "text/html": [
       "<pre class=\"language-APL\"> date.utc                   city       country  location  parameter  value  unit\n",
       "──────────────────────────────────────────────────────────────────────────────────\n",
       " 2019-06-18 06:00:00+00:00  Antwerpen  BE       BETR801   pm25        18    µg/m³\n",
       " 2019-06-17 08:00:00+00:00                                             6.5\n",
       "░2019-06-17░07:00:00+00:00░░░░░░░░░░░░░░░░░░░░░░░░░░░░░░░░░░░░░░░░░░░░18.5░░░░░░░░\n",
       " 2019-06-17 06:00:00+00:00                                            16\n",
       " 2019-06-17 05:00:00+00:00                                             7.5\n",
       "░2019-06-17░04:00:00+00:00░░░░░░░░░░░░░░░░░░░░░░░░░░░░░░░░░░░░░░░░░░░░░░░░░░░░░░░░\n",
       " 2019-06-17 03:00:00+00:00                                             7\n",
       "</pre>"
      ]
     },
     "execution_count": 938,
     "metadata": {},
     "output_type": "execute_result"
    }
   ],
   "source": [
    "air_quality←data.frame'air_quality_long.csv'\n",
    "head air_quality.(series←loc[(⊂'date.utc')∪labels])"
   ]
  },
  {
   "cell_type": "code",
   "execution_count": 939,
   "id": "75433723",
   "metadata": {},
   "outputs": [
    {
     "data": {
      "text/html": [
       "<pre class=\"language-APL\"> date.utc                   city   country  location  parameter  value  unit\n",
       "──────────────────────────────────────────────────────────────────────────────\n",
       " 2019-06-21 00:00:00+00:00  Paris  FR       FR04014   no2         20    µg/m³\n",
       " 2019-06-20 23:00:00+00:00                                        21.8\n",
       "░2019-06-20░22:00:00+00:00░░░░░░░░░░░░░░░░░░░░░░░░░░░░░░░░░░░░░░░░26.5░░░░░░░░\n",
       " 2019-06-20 21:00:00+00:00                                        24.9\n",
       " 2019-06-20 20:00:00+00:00                                        21.4\n",
       "░2019-06-20░19:00:00+00:00░░░░░░░░░░░░░░░░░░░░░░░░░░░░░░░░░░░░░░░░25.3░░░░░░░░\n",
       " 2019-06-20 18:00:00+00:00                                        23.9\n",
       " 2019-06-20 17:00:00+00:00                                        23.2\n",
       "░2019-06-20░16:00:00+00:00░░░░░░░░░░░░░░░░░░░░░░░░░░░░░░░░░░░░░░░░19░░░░░░░░░░\n",
       " 2019-06-20 15:00:00+00:00                                        19.3\n",
       "</pre>"
      ]
     },
     "execution_count": 939,
     "metadata": {},
     "output_type": "execute_result"
    }
   ],
   "source": [
    "head no2←(,(⊂'no2')≡¨air_quality[;⊂'parameter'])/data.at⊢air_quality"
   ]
  },
  {
   "cell_type": "code",
   "execution_count": 940,
   "id": "5014af80",
   "metadata": {},
   "outputs": [
    {
     "data": {
      "text/html": [
       "<pre class=\"language-APL\"> date.utc                   city   country  location  parameter  value  unit\n",
       "──────────────────────────────────────────────────────────────────────────────\n",
       " 2019-06-21 00:00:00+00:00  Paris  FR       FR04014   no2         20    µg/m³\n",
       " 2019-06-20 23:00:00+00:00                                        21.8\n",
       "░2019-06-20░22:00:00+00:00░░░░░░░░░░░░░░░░░░░░░░░░░░░░░░░░░░░░░░░░26.5░░░░░░░░\n",
       " 2019-06-20 21:00:00+00:00                                        24.9\n",
       " 2019-06-20 20:00:00+00:00                                        21.4\n",
       "░2019-06-20░19:00:00+00:00░░░░░░░░░░░░░░░░░░░░░░░░░░░░░░░░░░░░░░░░25.3░░░░░░░░\n",
       " 2019-06-20 18:00:00+00:00                                        23.9\n",
       " 2019-06-20 17:00:00+00:00                                        23.2\n",
       "░2019-06-20░16:00:00+00:00░░░░░░░░░░░░░░░░░░░░░░░░░░░░░░░░░░░░░░░░19░░░░░░░░░░\n",
       " 2019-06-20 15:00:00+00:00                                        19.3\n",
       "</pre>"
      ]
     },
     "execution_count": 940,
     "metadata": {},
     "output_type": "execute_result"
    }
   ],
   "source": [
    "⍝ alternatively\n",
    "head no2←{⍵data.frame(,(⊂'no2')≡¨⍵[;⊂'parameter'])⌿⍵[;]}air_quality"
   ]
  },
  {
   "cell_type": "code",
   "execution_count": 941,
   "id": "8d5771d0",
   "metadata": {},
   "outputs": [
    {
     "data": {
      "text/html": [
       "<pre class=\"language-APL\"> date.utc                   city       country  location            parameter  value  unit\n",
       "────────────────────────────────────────────────────────────────────────────────────────────\n",
       " 2019-04-09 01:00:00+00:00  Antwerpen  BE       BETR801             no2         22.5  µg/m³\n",
       "                            Paris      FR       FR04014                         24.4\n",
       "░2019-04-09░02:00:00+00:00░░Antwerpen░░BE░░░░░░░BETR801░░░░░░░░░░░░░░░░░░░░░░░░░53.5░░░░░░░░\n",
       "                            London     GB       London Westminster              67\n",
       "                            Paris      FR       FR04014                         27.4\n",
       "░2019-04-09░03:00:00+00:00░░London░░░░░GB░░░░░░░London░Westminster░░░░░░░░░░░░░░67░░░░░░░░░░\n",
       "</pre>"
      ]
     },
     "execution_count": 941,
     "metadata": {},
     "output_type": "execute_result"
    }
   ],
   "source": [
    "no2_subset←2∘↑data.by(⊂'location')⊢(⊂'date.utc')⍋data.sort no2\n",
    "no2_subset.series←⍋data.sort no2_subset[][no2_subset⍳⍥{⍵.labels}no2]\n",
    "no2_subset ⍝ TODO: non-matching order!"
   ]
  },
  {
   "cell_type": "code",
   "execution_count": 942,
   "id": "3a4ea273",
   "metadata": {},
   "outputs": [
    {
     "data": {
      "text/html": [
       "<pre class=\"language-APL\"> date.utc                   BETR801  FR04014  London Westminster\n",
       "─────────────────────────────────────────────────────────────────\n",
       " 2019-04-09 01:00:00+00:00  22.5     24.4     ·\n",
       " 2019-04-09 02:00:00+00:00  53.5     27.4     67\n",
       "░2019-04-09░03:00:00+00:00░░·░░░░░░░░·░░░░░░░░░░░░░░░░░░░░░░░░░░░\n",
       "</pre>"
      ]
     },
     "execution_count": 942,
     "metadata": {},
     "output_type": "execute_result"
    }
   ],
   "source": [
    "'value'data.by'location'⊢no2_subset['date.utc' 'location' 'value']"
   ]
  },
  {
   "cell_type": "code",
   "execution_count": 943,
   "id": "36e929a2",
   "metadata": {},
   "outputs": [],
   "source": [
    "⍝ TODO: plot"
   ]
  },
  {
   "cell_type": "markdown",
   "id": "78a00b59",
   "metadata": {},
   "source": [
    "### Pivot table"
   ]
  },
  {
   "cell_type": "code",
   "execution_count": 944,
   "id": "52af5572",
   "metadata": {},
   "outputs": [
    {
     "data": {
      "text/html": [
       "<pre class=\"language-APL\"> location            no2   pm25\n",
       "────────────────────────────────\n",
       " BETR801             27    23.2\n",
       " FR04014             29.4  ·\n",
       "░London░Westminster░░29.7░░13.4░\n",
       "</pre>"
      ]
     },
     "execution_count": 944,
     "metadata": {},
     "output_type": "execute_result"
    }
   ],
   "source": [
    "m←mean data.by'location' 'parameter'⊢air_quality['location' 'parameter' 'value']\n",
    "⊢p←'value'data.by'parameter'⊢m"
   ]
  },
  {
   "cell_type": "code",
   "execution_count": 945,
   "id": "cdf8f199",
   "metadata": {},
   "outputs": [],
   "source": [
    "⍝ TODO\n",
    "⍝ air_quality.pivot_table(..., margins=True, ...)"
   ]
  },
  {
   "cell_type": "markdown",
   "id": "a974f295",
   "metadata": {},
   "source": [
    "### Wide to long format"
   ]
  },
  {
   "cell_type": "code",
   "execution_count": 946,
   "id": "0b153ddd",
   "metadata": {},
   "outputs": [
    {
     "data": {
      "text/html": [
       "<pre class=\"language-APL\"> date.utc                   BETR801  FR04014  London Westminster\n",
       "─────────────────────────────────────────────────────────────────\n",
       " 2019-04-09 01:00:00+00:00  22.5     24.4     ·\n",
       " 2019-04-09 02:00:00+00:00  53.5     27.4     67\n",
       "░2019-04-09░03:00:00+00:00░░54.5░░░░░34.2░░░░░░░░░░░░░░░░░░░░░░░░\n",
       " 2019-04-09 04:00:00+00:00  34.5     48.5     41\n",
       " 2019-04-09 05:00:00+00:00  46.5     59.5\n",
       "░2019-04-09░06:00:00+00:00░░50░░░░░░░66.9░░░░░░░░░░░░░░░░░░░░░░░░\n",
       " 2019-04-09 07:00:00+00:00  38.5     68       45\n",
       " 2019-04-09 08:00:00+00:00  39       69.5     47\n",
       "░2019-04-09░09:00:00+00:00░░35░░░░░░░66.5░░░░░49░░░░░░░░░░░░░░░░░\n",
       " 2019-04-09 10:00:00+00:00  33.5     67.1     50\n",
       "</pre>"
      ]
     },
     "execution_count": 946,
     "metadata": {},
     "output_type": "execute_result"
    }
   ],
   "source": [
    "⍝ no2_pivoted = no2.pivot(columns=\"location\", values=\"value\").reset_index()\n",
    "head no2_pivoted←no2[⊂'value']data.by(no2[⊂'location'])⊢no2[⊂'date.utc']"
   ]
  },
  {
   "cell_type": "code",
   "execution_count": 947,
   "id": "82ebeaad",
   "metadata": {},
   "outputs": [
    {
     "data": {
      "text/html": [
       "<pre class=\"language-APL\"> date.utc                   location  value\n",
       "────────────────────────────────────────────\n",
       " 2019-04-09 01:00:00+00:00  BETR801   22.5\n",
       " 2019-04-09 02:00:00+00:00            53.5\n",
       "░2019-04-09░03:00:00+00:00░░░░░░░░░░░░54.5░░\n",
       " 2019-04-09 04:00:00+00:00            34.5\n",
       " 2019-04-09 05:00:00+00:00            46.5\n",
       "░2019-04-09░06:00:00+00:00░░░░░░░░░░░░50░░░░\n",
       " 2019-04-09 07:00:00+00:00            38.5\n",
       " 2019-04-09 08:00:00+00:00            39\n",
       "░2019-04-09░09:00:00+00:00░░░░░░░░░░░░35░░░░\n",
       " 2019-04-09 10:00:00+00:00            33.5\n",
       "</pre>"
      ]
     },
     "execution_count": 947,
     "metadata": {},
     "output_type": "execute_result"
    },
    {
     "data": {
      "text/html": [
       "<pre class=\"language-APL\"> date.utc                   id_location  NO_2\n",
       "──────────────────────────────────────────────\n",
       " 2019-04-09 01:00:00+00:00  BETR801      22.5\n",
       " 2019-04-09 02:00:00+00:00               53.5\n",
       "░2019-04-09░03:00:00+00:00░░░░░░░░░░░░░░░54.5░\n",
       " 2019-04-09 04:00:00+00:00               34.5\n",
       " 2019-04-09 05:00:00+00:00               46.5\n",
       "░2019-04-09░06:00:00+00:00░░░░░░░░░░░░░░░50░░░\n",
       " 2019-04-09 07:00:00+00:00               38.5\n",
       " 2019-04-09 08:00:00+00:00               39\n",
       "░2019-04-09░09:00:00+00:00░░░░░░░░░░░░░░░35░░░\n",
       " 2019-04-09 10:00:00+00:00               33.5\n",
       "</pre>"
      ]
     },
     "execution_count": 947,
     "metadata": {},
     "output_type": "execute_result"
    }
   ],
   "source": [
    "⍝ no_2 = no2_pivoted.melt(id_vars=\"date.utc\")\n",
    "no_2←{(⍵.labels~⊂'date.utc')('value'data.by'location')⍵}no2_pivoted\n",
    "head no_2←data.frame no_2[no_2.labels[2 1 3]]\n",
    "head{(⍵.labels[1],'id_location' 'NO_2')data.frame⍵}no_2"
   ]
  },
  {
   "cell_type": "code",
   "execution_count": 948,
   "id": "8e1bde72",
   "metadata": {},
   "outputs": [
    {
     "data": {
      "text/html": [
       "<pre class=\"language-APL\"> parameter  location            value\n",
       "──────────────────────────────────────\n",
       " no2        BETR801             27\n",
       "            FR04014             29.4\n",
       "░░░░░░░░░░░░London░Westminster░░29.7░░\n",
       "</pre>"
      ]
     },
     "execution_count": 948,
     "metadata": {},
     "output_type": "execute_result"
    }
   ],
   "source": [
    "(⊂'no2')('value'data.by'parameter')p[]~p[⊂'pm25']"
   ]
  },
  {
   "cell_type": "code",
   "execution_count": 949,
   "id": "eec1c8c7",
   "metadata": {},
   "outputs": [
    {
     "data": {
      "text/html": [
       "<pre class=\"language-APL\"> city   country  date.utc                   location  parameter  value  unit\n",
       "──────────────────────────────────────────────────────────────────────────────\n",
       " Paris  FR       2019-06-21 00:00:00+00:00  FR04014   no2         20    µg/m³\n",
       "                 2019-06-20 23:00:00+00:00                        21.8\n",
       "░░░░░░░░░░░░░░░░░2019-06-20░22:00:00+00:00░░░░░░░░░░░░░░░░░░░░░░░░26.5░░░░░░░░\n",
       "                 2019-06-20 21:00:00+00:00                        24.9\n",
       "                 2019-06-20 20:00:00+00:00                        21.4\n",
       "░░░░░░░░░░░░░░░░░2019-06-20░19:00:00+00:00░░░░░░░░░░░░░░░░░░░░░░░░25.3░░░░░░░░\n",
       "                 2019-06-20 18:00:00+00:00                        23.9\n",
       "                 2019-06-20 17:00:00+00:00                        23.2\n",
       "░░░░░░░░░░░░░░░░░2019-06-20░16:00:00+00:00░░░░░░░░░░░░░░░░░░░░░░░░19░░░░░░░░░░\n",
       "                 2019-06-20 15:00:00+00:00                        19.3\n",
       "</pre>"
      ]
     },
     "execution_count": 949,
     "metadata": {},
     "output_type": "execute_result"
    },
    {
     "data": {
      "text/html": [
       "<pre class=\"language-APL\"> city       country  date.utc                   location  parameter  value  unit\n",
       "──────────────────────────────────────────────────────────────────────────────────\n",
       " Antwerpen  BE       2019-06-18 06:00:00+00:00  BETR801   pm25        18    µg/m³\n",
       "                     2019-06-17 08:00:00+00:00                         6.5\n",
       "░░░░░░░░░░░░░░░░░░░░░2019-06-17░07:00:00+00:00░░░░░░░░░░░░░░░░░░░░░░░░18.5░░░░░░░░\n",
       "                     2019-06-17 06:00:00+00:00                        16\n",
       "                     2019-06-17 05:00:00+00:00                         7.5\n",
       "░░░░░░░░░░░░░░░░░░░░░2019-06-17░04:00:00+00:00░░░░░░░░░░░░░░░░░░░░░░░░░░░░░░░░░░░░\n",
       "                     2019-06-17 03:00:00+00:00                         7\n",
       "                     2019-06-17 02:00:00+00:00\n",
       "░░░░░░░░░░░░░░░░░░░░░2019-06-17░01:00:00+00:00░░░░░░░░░░░░░░░░░░░░░░░░░8░░░░░░░░░░\n",
       "                     2019-06-16 01:00:00+00:00                        15\n",
       "</pre>"
      ]
     },
     "execution_count": 949,
     "metadata": {},
     "output_type": "execute_result"
    }
   ],
   "source": [
    "⍝ air_quality_no2 = pd.read_csv(\"data/air_quality_no2_long.csv\", parse_dates=True)\n",
    "head air_quality_no2←data.frame'air_quality_no2_long.csv'\n",
    "⍝ air_quality_pm25 = pd.read_csv(\"data/air_quality_pm25_long.csv\", parse_dates=True)\n",
    "head air_quality_pm25←data.frame'air_quality_pm25_long.csv'"
   ]
  },
  {
   "cell_type": "markdown",
   "id": "45475816",
   "metadata": {},
   "source": [
    "## How to combine data from multiple tables\n",
    "\n",
    "### Concatenating objects"
   ]
  },
  {
   "cell_type": "code",
   "execution_count": 950,
   "id": "bc337fc3",
   "metadata": {},
   "outputs": [
    {
     "data": {
      "text/html": [
       "<pre class=\"language-APL\"> date.utc                   location            parameter  value\n",
       "─────────────────────────────────────────────────────────────────\n",
       " 2019-05-07 01:00:00+00:00  BETR801             pm25        12.5\n",
       "                            London Westminster               8\n",
       "░░░░░░░░░░░░░░░░░░░░░░░░░░░░FR04014░░░░░░░░░░░░░no2░░░░░░░░░25░░░\n",
       "                            BETR801                         50.5\n",
       "                            London Westminster              23\n",
       "░2019-05-07░02:00:00+00:00░░BETR801░░░░░░░░░░░░░pm25░░░░░░░░14░░░\n",
       "                            London Westminster               8\n",
       "                            FR04014             no2         27.7\n",
       "░░░░░░░░░░░░░░░░░░░░░░░░░░░░BETR801░░░░░░░░░░░░░░░░░░░░░░░░░45░░░\n",
       "                            London Westminster              19\n",
       "</pre>"
      ]
     },
     "execution_count": 950,
     "metadata": {},
     "output_type": "execute_result"
    }
   ],
   "source": [
    "DLPV←{⍵['date.utc' 'location' 'parameter' 'value']}\n",
    "head air_quality←(⊂'date.utc')⍋data.sort air_quality_pm25,data.join⊢⍥DLPV air_quality_no2"
   ]
  },
  {
   "cell_type": "code",
   "execution_count": 951,
   "id": "2649e5de",
   "metadata": {},
   "outputs": [
    {
     "data": {
      "text/html": [
       "<pre class=\"language-APL\"> date.utc                   location            value  parameter\n",
       "─────────────────────────────────────────────────────────────────\n",
       " 2019-05-07 01:00:00+00:00  BETR801              12.5  PM25\n",
       "                            London Westminster    8\n",
       "░░░░░░░░░░░░░░░░░░░░░░░░░░░░FR04014░░░░░░░░░░░░░░25░░░░NO2░░░░░░░\n",
       "                            BETR801              50.5\n",
       "                            London Westminster   23\n",
       "░2019-05-07░02:00:00+00:00░░BETR801░░░░░░░░░░░░░░14░░░░PM25░░░░░░\n",
       "                            London Westminster    8\n",
       "                            FR04014              27.7  NO2\n",
       "░░░░░░░░░░░░░░░░░░░░░░░░░░░░BETR801░░░░░░░░░░░░░░45░░░░░░░░░░░░░░\n",
       "                            London Westminster   19\n",
       "</pre>"
      ]
     },
     "execution_count": 951,
     "metadata": {},
     "output_type": "execute_result"
    }
   ],
   "source": [
    "P←{data.frame('parameter'data.series(≢(⊃w).values)/⊂⍺),⍨w←⍵['date.utc' 'location' 'value']}\n",
    "head(⊂'date.utc')⍋data.sort('PM25'P air_quality_pm25),data.join⊢'NO2'P air_quality_no2"
   ]
  },
  {
   "cell_type": "markdown",
   "id": "545512b2",
   "metadata": {},
   "source": [
    "### Join tables using a common identifier"
   ]
  },
  {
   "cell_type": "code",
   "execution_count": 952,
   "id": "a98c2f9f",
   "metadata": {},
   "outputs": [
    {
     "data": {
      "text/html": [
       "<pre class=\"language-APL\"> location  coordinates.latitude  coordinates.longitude\n",
       "───────────────────────────────────────────────────────\n",
       " BELAL01                   51.2                   4.39\n",
       " BELHB23                   51.2                   4.34\n",
       "░BELLD01░░░░░░░░░░░░░░░░░░░51.1░░░░░░░░░░░░░░░░░░░5░░░░\n",
       " BELLD02                   51.1                   5.02\n",
       " BELR833                   51.3                   4.36\n",
       "░BELSA04░░░░░░░░░░░░░░░░░░░51.3░░░░░░░░░░░░░░░░░░░4.4░░\n",
       " BELWZ02                   51.2                   5.22\n",
       " BETM802                   51.3                   4.42\n",
       "░BETN016░░░░░░░░░░░░░░░░░░░51.2░░░░░░░░░░░░░░░░░░░5.16░\n",
       " BETR801                   51.2                   4.43\n",
       "</pre>"
      ]
     },
     "execution_count": 952,
     "metadata": {},
     "output_type": "execute_result"
    }
   ],
   "source": [
    "⍝ stations_coord = pd.read_csv(\"data/air_quality_stations.csv\")\n",
    "head stations_coord←data.frame'air_quality_stations.csv'"
   ]
  },
  {
   "cell_type": "code",
   "execution_count": 953,
   "id": "1021d304",
   "metadata": {},
   "outputs": [
    {
     "data": {
      "text/html": [
       "<pre class=\"language-APL\"> date.utc                   location            parameter  value\n",
       "─────────────────────────────────────────────────────────────────\n",
       " 2019-05-07 01:00:00+00:00  BETR801             pm25        12.5\n",
       "                            London Westminster               8\n",
       "░░░░░░░░░░░░░░░░░░░░░░░░░░░░FR04014░░░░░░░░░░░░░no2░░░░░░░░░25░░░\n",
       "                            BETR801                         50.5\n",
       "                            London Westminster              23\n",
       "░2019-05-07░02:00:00+00:00░░BETR801░░░░░░░░░░░░░pm25░░░░░░░░14░░░\n",
       "                            London Westminster               8\n",
       "                            FR04014             no2         27.7\n",
       "░░░░░░░░░░░░░░░░░░░░░░░░░░░░BETR801░░░░░░░░░░░░░░░░░░░░░░░░░45░░░\n",
       "                            London Westminster              19\n",
       "</pre>"
      ]
     },
     "execution_count": 953,
     "metadata": {},
     "output_type": "execute_result"
    }
   ],
   "source": [
    "head air_quality"
   ]
  },
  {
   "cell_type": "code",
   "execution_count": 954,
   "id": "3447b314",
   "metadata": {},
   "outputs": [
    {
     "data": {
      "text/html": [
       "<pre class=\"language-APL\"> date.utc                   location            parameter  value  coordinates.latitude  coordinates.longitude\n",
       "──────────────────────────────────────────────────────────────────────────────────────────────────────────────\n",
       " 2019-05-07 01:00:00+00:00  BETR801             pm25        12.5                  51.2                  4.43\n",
       "                            London Westminster               8                    51.5                 ¯0.132\n",
       "░░░░░░░░░░░░░░░░░░░░░░░░░░░░FR04014░░░░░░░░░░░░░no2░░░░░░░░░25░░░░░░░░░░░░░░░░░░░░48.8░░░░░░░░░░░░░░░░░░2.39░░\n",
       "                            BETR801                         50.5                  51.2                  4.43\n",
       "                            London Westminster              23                    51.5                 ¯0.132\n",
       "░2019-05-07░02:00:00+00:00░░BETR801░░░░░░░░░░░░░pm25░░░░░░░░14░░░░░░░░░░░░░░░░░░░░51.2░░░░░░░░░░░░░░░░░░4.43░░\n",
       "                            London Westminster               8                    51.5                 ¯0.132\n",
       "                            FR04014             no2         27.7                  48.8                  2.39\n",
       "░░░░░░░░░░░░░░░░░░░░░░░░░░░░BETR801░░░░░░░░░░░░░░░░░░░░░░░░░45░░░░░░░░░░░░░░░░░░░░51.2░░░░░░░░░░░░░░░░░░4.43░░\n",
       "                            London Westminster              19                    51.5                 ¯0.132\n",
       "</pre>"
      ]
     },
     "execution_count": 954,
     "metadata": {},
     "output_type": "execute_result"
    }
   ],
   "source": [
    "⍝ air_quality = pd.merge(air_quality, stations_coord, how=\"left\", on=\"location\")\n",
    "i←stations_coord⍳⍥{⍵[;⊂'location']}air_quality\n",
    "head data.frame air_quality[],{⍵[i]}data.at⊢stations_coord[(⊂'coordinates.'),¨'latitude' 'longitude']"
   ]
  },
  {
   "cell_type": "code",
   "execution_count": 955,
   "id": "c5333b47",
   "metadata": {},
   "outputs": [
    {
     "data": {
      "text/html": [
       "<pre class=\"language-APL\"> id    description                                               name\n",
       "───────────────────────────────────────────────────────────────────────\n",
       " bc    Black Carbon                                              BC\n",
       " co    Carbon Monoxide                                           CO\n",
       "░no2░░░Nitrogen░Dioxide░░░░░░░░░░░░░░░░░░░░░░░░░░░░░░░░░░░░░░░░░░NO2░░░\n",
       " o3    Ozone                                                     O3\n",
       " pm10  Particulate matter less than 10 micrometers in diameter   PM10\n",
       "░pm25░░Particulate░matter░less░than░2.5░micrometers░in░diameter░░PM2.5░\n",
       " so2   Sulfur Dioxide                                            SO2\n",
       "</pre>"
      ]
     },
     "execution_count": 955,
     "metadata": {},
     "output_type": "execute_result"
    }
   ],
   "source": [
    "⍝ air_quality_parameters = pd.read_csv(\"data/air_quality_parameters.csv\")\n",
    "⊢air_quality_parameters←data.frame'air_quality_parameters.csv'"
   ]
  },
  {
   "cell_type": "code",
   "execution_count": 956,
   "id": "21304652",
   "metadata": {},
   "outputs": [
    {
     "data": {
      "text/html": [
       "<pre class=\"language-APL\"> date.utc                   location            parameter  value  description                                               name\n",
       "──────────────────────────────────────────────────────────────────────────────────────────────────────────────────────────────────\n",
       " 2019-05-07 01:00:00+00:00  BETR801             pm25        12.5  Particulate matter less than 2.5 micrometers in diameter  PM2.5\n",
       "                            London Westminster               8\n",
       "░░░░░░░░░░░░░░░░░░░░░░░░░░░░FR04014░░░░░░░░░░░░░no2░░░░░░░░░25░░░░Nitrogen░Dioxide░░░░░░░░░░░░░░░░░░░░░░░░░░░░░░░░░░░░░░░░░░NO2░░░\n",
       "                            BETR801                         50.5\n",
       "                            London Westminster              23\n",
       "░2019-05-07░02:00:00+00:00░░BETR801░░░░░░░░░░░░░pm25░░░░░░░░14░░░░Particulate░matter░less░than░2.5░micrometers░in░diameter░░PM2.5░\n",
       "                            London Westminster               8\n",
       "                            FR04014             no2         27.7  Nitrogen Dioxide                                          NO2\n",
       "░░░░░░░░░░░░░░░░░░░░░░░░░░░░BETR801░░░░░░░░░░░░░░░░░░░░░░░░░45░░░░░░░░░░░░░░░░░░░░░░░░░░░░░░░░░░░░░░░░░░░░░░░░░░░░░░░░░░░░░░░░░░░░\n",
       "                            London Westminster              19\n",
       "</pre>"
      ]
     },
     "execution_count": 956,
     "metadata": {},
     "output_type": "execute_result"
    }
   ],
   "source": [
    "⍝ air_quality = pd.merge(air_quality, air_quality_parameters,\n",
    "⍝                        how='left', left_on='parameter', right_on='id')\n",
    "i←air_quality_parameters[;⊂'id']⍳air_quality[;⊂'parameter']\n",
    "head data.frame air_quality[],{⍵[i]}data.at⊢1↓air_quality_parameters[]"
   ]
  },
  {
   "cell_type": "markdown",
   "id": "f6e5e75a",
   "metadata": {},
   "source": [
    "## How to handle time series data with ease"
   ]
  },
  {
   "cell_type": "markdown",
   "id": "baa8a676",
   "metadata": {},
   "source": [
    "## How to manipulate textual data"
   ]
  },
  {
   "cell_type": "code",
   "execution_count": null,
   "id": "772025e2",
   "metadata": {},
   "outputs": [],
   "source": []
  }
 ],
 "metadata": {
  "kernelspec": {
   "display_name": "Dyalog APL",
   "language": "apl",
   "name": "dyalog-kernel"
  },
  "language_info": {
   "file_extension": ".apl",
   "mimetype": "text/apl",
   "name": "APL"
  }
 },
 "nbformat": 4,
 "nbformat_minor": 5
}
